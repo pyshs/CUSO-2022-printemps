{
 "cells": [
  {
   "cell_type": "markdown",
   "id": "b440fb74",
   "metadata": {},
   "source": [
    "# Exercices séances 5 à 6\n",
    "\n",
    "Pour ces exercices, nous nous baserons sur les données https://wellcome.org/reports/wellcome-global-monitor-covid-19/2020"
   ]
  },
  {
   "cell_type": "markdown",
   "id": "04779ce7",
   "metadata": {},
   "source": [
    "## Charger les données\n",
    "\n",
    "(télécharger les données avant et les mettre dans le répertoire courant)"
   ]
  },
  {
   "cell_type": "code",
   "execution_count": 4,
   "id": "8843a261",
   "metadata": {},
   "outputs": [],
   "source": [
    "import pandas as pd\n",
    "pd.options.mode.chained_assignment = None\n",
    "import pyreadstat\n",
    "df, meta = pyreadstat.read_sav('../../Séance 5 - Stastistiques et visualisations/wgm-full-wave2-public-file.sav')\n",
    "df.shape\n",
    "\n",
    "def question(v, meta):\n",
    "    return meta.column_names_to_labels[v]\n",
    "\n",
    "def modalites(v, meta):\n",
    "    return meta.value_labels[meta.variable_to_label[v]]"
   ]
  },
  {
   "cell_type": "markdown",
   "id": "08fcfe5c",
   "metadata": {},
   "source": [
    "## Exercice 1\n",
    "\n",
    "Qui sont les gens en Suisse qui ne comprennent pas le sens de \"science\" et \"scientifique\" ('W2')\n",
    "\n",
    "- Construisez le tableau de données uniquement pour la Suisse\n",
    "- Recodez la variable 'W2' en regroupant les deux modalités 3 et 4 et donnez des noms explicites aux modalités\n",
    "- Recodez les variables âge, genre, éducation, revenus de manière interprétable (vous pouvez faire des choix)\n",
    "- Faites le tri à plat de la variable d'intérêt avec Pandas puis avec la bibliothèque PySHS\n",
    "- Faites un diagramme en barres de la distribution des réponses en pourcentage\n",
    "- Faites les tableaux croisés de la variable avec l'âge, le genre, l'éducation et les revenus"
   ]
  },
  {
   "cell_type": "code",
   "execution_count": 14,
   "id": "c7c259a2",
   "metadata": {},
   "outputs": [],
   "source": [
    "suisse = df[df[\"COUNTRYNEW\"]==\"Switzerland\"]"
   ]
  },
  {
   "cell_type": "code",
   "execution_count": 5,
   "id": "8de9527e",
   "metadata": {},
   "outputs": [
    {
     "data": {
      "text/plain": [
       "{1.0: 'All of it',\n",
       " 2.0: 'Some of it',\n",
       " 3.0: 'Not much of it',\n",
       " 4.0: 'None of it',\n",
       " 98.0: '',\n",
       " 99.0: 'DK/Refused'}"
      ]
     },
     "execution_count": 5,
     "metadata": {},
     "output_type": "execute_result"
    }
   ],
   "source": [
    "modalites(\"W2\",meta)"
   ]
  },
  {
   "cell_type": "code",
   "execution_count": 6,
   "id": "57b2c08b",
   "metadata": {},
   "outputs": [
    {
     "data": {
      "text/plain": [
       "'How Much You Understand the Meaning of Science and Scientists'"
      ]
     },
     "execution_count": 6,
     "metadata": {},
     "output_type": "execute_result"
    }
   ],
   "source": [
    "question(\"W2\",meta)"
   ]
  },
  {
   "cell_type": "code",
   "execution_count": 15,
   "id": "8e28ebe4",
   "metadata": {},
   "outputs": [],
   "source": [
    "suisse[\"comprehension\"] = suisse[\"W2\"].replace({1:\"1-Compréhension forte\",2:\"2-Compréhension moyenne\",\n",
    "                      3:\"3-Faible compréhension\",4:\"3-Faible compréhension\",\n",
    "                      98:\"4-NA\",99:\"4-NA\"})"
   ]
  },
  {
   "cell_type": "code",
   "execution_count": 16,
   "id": "4130bbaf",
   "metadata": {},
   "outputs": [],
   "source": [
    "suisse[\"age_reco\"] = pd.cut(suisse['Age'],[0,35,45,55,65,100],\n",
    "                           labels = [\"1-[15-35[\",\"2-[35-45[\",\"3-[45-55[\",\n",
    "                                     \"4-[55-65[\",\"5-[65-75]\"])\n",
    "suisse[\"genre\"] = suisse[\"Gender\"].replace({1.0: '1-Homme', 2.0: '2-Femme'})\n",
    "suisse[\"education\"] = suisse[\"Education\"].replace(modalites('Education',meta))\n",
    "suisse[\"revenus\"] = suisse[\"Household_Income\"].replace({1.0: 'Q1', 2.0: 'Q2',3:\"Q3\",4:\"Q4\",5:\"Q5\"})\n"
   ]
  },
  {
   "cell_type": "code",
   "execution_count": 21,
   "id": "efc8cafb",
   "metadata": {},
   "outputs": [
    {
     "data": {
      "text/html": [
       "<div>\n",
       "<style scoped>\n",
       "    .dataframe tbody tr th:only-of-type {\n",
       "        vertical-align: middle;\n",
       "    }\n",
       "\n",
       "    .dataframe tbody tr th {\n",
       "        vertical-align: top;\n",
       "    }\n",
       "\n",
       "    .dataframe thead th {\n",
       "        text-align: right;\n",
       "    }\n",
       "</style>\n",
       "<table border=\"1\" class=\"dataframe\">\n",
       "  <thead>\n",
       "    <tr style=\"text-align: right;\">\n",
       "      <th></th>\n",
       "      <th>comprehension</th>\n",
       "      <th>Pourcentage</th>\n",
       "    </tr>\n",
       "  </thead>\n",
       "  <tbody>\n",
       "    <tr>\n",
       "      <th>1-Compréhension forte</th>\n",
       "      <td>471</td>\n",
       "      <td>47.1</td>\n",
       "    </tr>\n",
       "    <tr>\n",
       "      <th>2-Compréhension moyenne</th>\n",
       "      <td>402</td>\n",
       "      <td>40.2</td>\n",
       "    </tr>\n",
       "    <tr>\n",
       "      <th>3-Faible compréhension</th>\n",
       "      <td>125</td>\n",
       "      <td>12.5</td>\n",
       "    </tr>\n",
       "    <tr>\n",
       "      <th>4-NA</th>\n",
       "      <td>2</td>\n",
       "      <td>0.2</td>\n",
       "    </tr>\n",
       "  </tbody>\n",
       "</table>\n",
       "</div>"
      ],
      "text/plain": [
       "                         comprehension  Pourcentage\n",
       "1-Compréhension forte              471         47.1\n",
       "2-Compréhension moyenne            402         40.2\n",
       "3-Faible compréhension             125         12.5\n",
       "4-NA                                 2          0.2"
      ]
     },
     "execution_count": 21,
     "metadata": {},
     "output_type": "execute_result"
    }
   ],
   "source": [
    "t = pd.DataFrame(suisse[\"comprehension\"].value_counts())\n",
    "t[\"Pourcentage\"] = suisse[\"comprehension\"].value_counts(normalize=True)*100\n",
    "t"
   ]
  },
  {
   "cell_type": "code",
   "execution_count": 24,
   "id": "1b7cf661",
   "metadata": {},
   "outputs": [
    {
     "data": {
      "text/html": [
       "<div>\n",
       "<style scoped>\n",
       "    .dataframe tbody tr th:only-of-type {\n",
       "        vertical-align: middle;\n",
       "    }\n",
       "\n",
       "    .dataframe tbody tr th {\n",
       "        vertical-align: top;\n",
       "    }\n",
       "\n",
       "    .dataframe thead th {\n",
       "        text-align: right;\n",
       "    }\n",
       "</style>\n",
       "<table border=\"1\" class=\"dataframe\">\n",
       "  <thead>\n",
       "    <tr style=\"text-align: right;\">\n",
       "      <th></th>\n",
       "      <th>Effectif</th>\n",
       "      <th>Pourcentage (%)</th>\n",
       "    </tr>\n",
       "  </thead>\n",
       "  <tbody>\n",
       "    <tr>\n",
       "      <th>1-Compréhension forte</th>\n",
       "      <td>471.0</td>\n",
       "      <td>47.1</td>\n",
       "    </tr>\n",
       "    <tr>\n",
       "      <th>2-Compréhension moyenne</th>\n",
       "      <td>402.0</td>\n",
       "      <td>40.2</td>\n",
       "    </tr>\n",
       "    <tr>\n",
       "      <th>3-Faible compréhension</th>\n",
       "      <td>125.0</td>\n",
       "      <td>12.5</td>\n",
       "    </tr>\n",
       "    <tr>\n",
       "      <th>4-NA</th>\n",
       "      <td>2.0</td>\n",
       "      <td>0.2</td>\n",
       "    </tr>\n",
       "    <tr>\n",
       "      <th>Total</th>\n",
       "      <td>1000.0</td>\n",
       "      <td>100.0</td>\n",
       "    </tr>\n",
       "  </tbody>\n",
       "</table>\n",
       "</div>"
      ],
      "text/plain": [
       "                         Effectif  Pourcentage (%)\n",
       "1-Compréhension forte       471.0             47.1\n",
       "2-Compréhension moyenne     402.0             40.2\n",
       "3-Faible compréhension      125.0             12.5\n",
       "4-NA                          2.0              0.2\n",
       "Total                      1000.0            100.0"
      ]
     },
     "execution_count": 24,
     "metadata": {},
     "output_type": "execute_result"
    }
   ],
   "source": [
    "import pyshs\n",
    "t = pyshs.tri_a_plat(suisse,\"comprehension\")\n",
    "t"
   ]
  },
  {
   "cell_type": "code",
   "execution_count": 30,
   "id": "d06f183d",
   "metadata": {},
   "outputs": [
    {
     "data": {
      "text/plain": [
       "<AxesSubplot:>"
      ]
     },
     "execution_count": 30,
     "metadata": {},
     "output_type": "execute_result"
    },
    {
     "data": {
      "image/png": "[encoded data removed]",
      "text/plain": [
       "<Figure size 432x288 with 1 Axes>"
      ]
     },
     "metadata": {
      "needs_background": "light"
     },
     "output_type": "display_data"
    }
   ],
   "source": [
    "(suisse[\"comprehension\"].value_counts(normalize=True)*100).plot(kind=\"barh\")"
   ]
  },
  {
   "cell_type": "code",
   "execution_count": 39,
   "id": "c13797b7",
   "metadata": {},
   "outputs": [
    {
     "data": {
      "text/html": [
       "<div>\n",
       "<style scoped>\n",
       "    .dataframe tbody tr th:only-of-type {\n",
       "        vertical-align: middle;\n",
       "    }\n",
       "\n",
       "    .dataframe tbody tr th {\n",
       "        vertical-align: top;\n",
       "    }\n",
       "\n",
       "    .dataframe thead th {\n",
       "        text-align: right;\n",
       "    }\n",
       "</style>\n",
       "<table border=\"1\" class=\"dataframe\">\n",
       "  <thead>\n",
       "    <tr style=\"text-align: right;\">\n",
       "      <th>comprehension</th>\n",
       "      <th>1-Compréhension forte</th>\n",
       "      <th>2-Compréhension moyenne</th>\n",
       "      <th>3-Faible compréhension</th>\n",
       "      <th>4-NA</th>\n",
       "    </tr>\n",
       "    <tr>\n",
       "      <th>age_reco</th>\n",
       "      <th></th>\n",
       "      <th></th>\n",
       "      <th></th>\n",
       "      <th></th>\n",
       "    </tr>\n",
       "  </thead>\n",
       "  <tbody>\n",
       "    <tr>\n",
       "      <th>1-[15-35[</th>\n",
       "      <td>91</td>\n",
       "      <td>90</td>\n",
       "      <td>18</td>\n",
       "      <td>1</td>\n",
       "    </tr>\n",
       "    <tr>\n",
       "      <th>2-[35-45[</th>\n",
       "      <td>100</td>\n",
       "      <td>86</td>\n",
       "      <td>21</td>\n",
       "      <td>0</td>\n",
       "    </tr>\n",
       "    <tr>\n",
       "      <th>3-[45-55[</th>\n",
       "      <td>107</td>\n",
       "      <td>65</td>\n",
       "      <td>22</td>\n",
       "      <td>0</td>\n",
       "    </tr>\n",
       "    <tr>\n",
       "      <th>4-[55-65[</th>\n",
       "      <td>70</td>\n",
       "      <td>72</td>\n",
       "      <td>25</td>\n",
       "      <td>1</td>\n",
       "    </tr>\n",
       "    <tr>\n",
       "      <th>5-[65-75]</th>\n",
       "      <td>103</td>\n",
       "      <td>89</td>\n",
       "      <td>39</td>\n",
       "      <td>0</td>\n",
       "    </tr>\n",
       "  </tbody>\n",
       "</table>\n",
       "</div>"
      ],
      "text/plain": [
       "comprehension  1-Compréhension forte  2-Compréhension moyenne  \\\n",
       "age_reco                                                        \n",
       "1-[15-35[                         91                       90   \n",
       "2-[35-45[                        100                       86   \n",
       "3-[45-55[                        107                       65   \n",
       "4-[55-65[                         70                       72   \n",
       "5-[65-75]                        103                       89   \n",
       "\n",
       "comprehension  3-Faible compréhension  4-NA  \n",
       "age_reco                                     \n",
       "1-[15-35[                          18     1  \n",
       "2-[35-45[                          21     0  \n",
       "3-[45-55[                          22     0  \n",
       "4-[55-65[                          25     1  \n",
       "5-[65-75]                          39     0  "
      ]
     },
     "execution_count": 39,
     "metadata": {},
     "output_type": "execute_result"
    }
   ],
   "source": [
    "pd.crosstab(suisse[\"age_reco\"],suisse[\"comprehension\"])"
   ]
  },
  {
   "cell_type": "code",
   "execution_count": 38,
   "id": "fb31025b",
   "metadata": {},
   "outputs": [
    {
     "data": {
      "text/html": [
       "<div>\n",
       "<style scoped>\n",
       "    .dataframe tbody tr th:only-of-type {\n",
       "        vertical-align: middle;\n",
       "    }\n",
       "\n",
       "    .dataframe tbody tr th {\n",
       "        vertical-align: top;\n",
       "    }\n",
       "\n",
       "    .dataframe thead th {\n",
       "        text-align: right;\n",
       "    }\n",
       "</style>\n",
       "<table border=\"1\" class=\"dataframe\">\n",
       "  <thead>\n",
       "    <tr style=\"text-align: right;\">\n",
       "      <th></th>\n",
       "      <th>1-Compréhension forte</th>\n",
       "      <th>2-Compréhension moyenne</th>\n",
       "      <th>3-Faible compréhension</th>\n",
       "      <th>4-NA</th>\n",
       "      <th>Total</th>\n",
       "    </tr>\n",
       "  </thead>\n",
       "  <tbody>\n",
       "    <tr>\n",
       "      <th>1-[15-35[</th>\n",
       "      <td>109.1 (39.5%)</td>\n",
       "      <td>138.3 (50.0%)</td>\n",
       "      <td>28.5 (10.3%)</td>\n",
       "      <td>0.5 (0.2%)</td>\n",
       "      <td>276.4 (100%)</td>\n",
       "    </tr>\n",
       "    <tr>\n",
       "      <th>2-[35-45[</th>\n",
       "      <td>85.1 (48.0%)</td>\n",
       "      <td>70.5 (39.8%)</td>\n",
       "      <td>21.7 (12.2%)</td>\n",
       "      <td>0.0 (0.0%)</td>\n",
       "      <td>177.3 (100%)</td>\n",
       "    </tr>\n",
       "    <tr>\n",
       "      <th>3-[45-55[</th>\n",
       "      <td>103.1 (52.9%)</td>\n",
       "      <td>66.7 (34.2%)</td>\n",
       "      <td>25.0 (12.8%)</td>\n",
       "      <td>0.0 (0.0%)</td>\n",
       "      <td>194.9 (100%)</td>\n",
       "    </tr>\n",
       "    <tr>\n",
       "      <th>4-[55-65[</th>\n",
       "      <td>55.6 (38.6%)</td>\n",
       "      <td>63.0 (43.7%)</td>\n",
       "      <td>24.9 (17.3%)</td>\n",
       "      <td>0.7 (0.5%)</td>\n",
       "      <td>144.2 (100%)</td>\n",
       "    </tr>\n",
       "    <tr>\n",
       "      <th>5-[65-75]</th>\n",
       "      <td>83.7 (40.4%)</td>\n",
       "      <td>88.6 (42.8%)</td>\n",
       "      <td>34.8 (16.8%)</td>\n",
       "      <td>0.0 (0.0%)</td>\n",
       "      <td>207.2 (100%)</td>\n",
       "    </tr>\n",
       "    <tr>\n",
       "      <th>Total</th>\n",
       "      <td>436.7 (43.7%)</td>\n",
       "      <td>427.1 (42.7%)</td>\n",
       "      <td>135.0 (13.5%)</td>\n",
       "      <td>1.2 (0.1%)</td>\n",
       "      <td>1000.0 (100%)</td>\n",
       "    </tr>\n",
       "  </tbody>\n",
       "</table>\n",
       "</div>"
      ],
      "text/plain": [
       "          1-Compréhension forte 2-Compréhension moyenne  \\\n",
       "1-[15-35[         109.1 (39.5%)           138.3 (50.0%)   \n",
       "2-[35-45[          85.1 (48.0%)            70.5 (39.8%)   \n",
       "3-[45-55[         103.1 (52.9%)            66.7 (34.2%)   \n",
       "4-[55-65[          55.6 (38.6%)            63.0 (43.7%)   \n",
       "5-[65-75]          83.7 (40.4%)            88.6 (42.8%)   \n",
       "Total             436.7 (43.7%)           427.1 (42.7%)   \n",
       "\n",
       "          3-Faible compréhension        4-NA          Total  \n",
       "1-[15-35[           28.5 (10.3%)  0.5 (0.2%)   276.4 (100%)  \n",
       "2-[35-45[           21.7 (12.2%)  0.0 (0.0%)   177.3 (100%)  \n",
       "3-[45-55[           25.0 (12.8%)  0.0 (0.0%)   194.9 (100%)  \n",
       "4-[55-65[           24.9 (17.3%)  0.7 (0.5%)   144.2 (100%)  \n",
       "5-[65-75]           34.8 (16.8%)  0.0 (0.0%)   207.2 (100%)  \n",
       "Total              135.0 (13.5%)  1.2 (0.1%)  1000.0 (100%)  "
      ]
     },
     "execution_count": 38,
     "metadata": {},
     "output_type": "execute_result"
    }
   ],
   "source": [
    "pyshs.tableau_croise(suisse,\"age_reco\",\"comprehension\",\"WGT\")"
   ]
  },
  {
   "cell_type": "markdown",
   "id": "98dbf325",
   "metadata": {},
   "source": [
    "## Exercice 2\n",
    "\n",
    "Sur l'ensemble du corpus :\n",
    "\n",
    "- Calculez par pays le pourcentage de personnes qui disent comprendre ce que veux dire \"science\" et \"scientifique\"\n",
    "- Proposez une représentation de taille adaptée\n",
    "- Choisissez les couleurs lisibles\n",
    "- Mettez un titre et des axes claires"
   ]
  },
  {
   "cell_type": "code",
   "execution_count": 43,
   "id": "c8a8adaa",
   "metadata": {},
   "outputs": [
    {
     "data": {
      "text/plain": [
       "2.0     0.391509\n",
       "1.0     0.364302\n",
       "3.0     0.159974\n",
       "4.0     0.072635\n",
       "99.0    0.011580\n",
       "Name: W2, dtype: float64"
      ]
     },
     "execution_count": 43,
     "metadata": {},
     "output_type": "execute_result"
    }
   ],
   "source": [
    "df[\"W2\"].value_counts(normalize=True)"
   ]
  },
  {
   "cell_type": "code",
   "execution_count": 44,
   "id": "3b1326d0",
   "metadata": {},
   "outputs": [],
   "source": [
    "df[\"comprehensionforte\"] = (df[\"W2\"]==1)"
   ]
  },
  {
   "cell_type": "code",
   "execution_count": 46,
   "id": "e27a3af8",
   "metadata": {},
   "outputs": [
    {
     "data": {
      "text/plain": [
       "COUNTRYNEW\n",
       "Albania       263\n",
       "Algeria       376\n",
       "Argentina     561\n",
       "Australia     537\n",
       "Austria       541\n",
       "             ... \n",
       "Uzbekistan    495\n",
       "Venezuela     321\n",
       "Vietnam        49\n",
       "Zambia        167\n",
       "Zimbabwe      228\n",
       "Name: comprehensionforte, Length: 113, dtype: int64"
      ]
     },
     "execution_count": 46,
     "metadata": {},
     "output_type": "execute_result"
    }
   ],
   "source": [
    "df.groupby(\"COUNTRYNEW\")[\"comprehensionforte\"].sum()"
   ]
  },
  {
   "cell_type": "markdown",
   "id": "436d0518",
   "metadata": {},
   "source": [
    "Mais il faudrait pondérer ça par rapport à l'échantillon ..."
   ]
  },
  {
   "cell_type": "markdown",
   "id": "ee8eb4cb",
   "metadata": {},
   "source": [
    "On peut 1/ faire une boucle par pays ou 2/ créer une fonction qui prend en entrée un tableau..."
   ]
  },
  {
   "cell_type": "code",
   "execution_count": 54,
   "id": "bb8202d9",
   "metadata": {},
   "outputs": [],
   "source": [
    "def calculer_prop(tab):\n",
    "    val = pyshs.tri_a_plat(tab,\"W2\",\"WGT\")\n",
    "    return val.loc[\"1.0\",\"Pourcentage (%)\"]"
   ]
  },
  {
   "cell_type": "code",
   "execution_count": 56,
   "id": "6ad55761",
   "metadata": {},
   "outputs": [
    {
     "data": {
      "text/plain": [
       "COUNTRYNEW\n",
       "Laos               2.2\n",
       "China              2.2\n",
       "Vietnam            2.4\n",
       "Indonesia          3.2\n",
       "Cambodia           3.4\n",
       "                  ... \n",
       "Estonia           66.5\n",
       "Slovakia          70.1\n",
       "Poland            70.5\n",
       "Hungary           73.0\n",
       "Czech Republic    83.3\n",
       "Length: 113, dtype: float64"
      ]
     },
     "execution_count": 56,
     "metadata": {},
     "output_type": "execute_result"
    }
   ],
   "source": [
    "df.groupby(\"COUNTRYNEW\").apply(calculer_prop).sort_values()"
   ]
  },
  {
   "cell_type": "code",
   "execution_count": 63,
   "id": "1702161c",
   "metadata": {},
   "outputs": [
    {
     "data": {
      "text/plain": [
       "<AxesSubplot:ylabel='COUNTRYNEW'>"
      ]
     },
     "execution_count": 63,
     "metadata": {},
     "output_type": "execute_result"
    },
    {
     "data": {
      "image/png": "[encoded data removed]",
      "text/plain": [
       "<Figure size 360x720 with 1 Axes>"
      ]
     },
     "metadata": {
      "needs_background": "light"
     },
     "output_type": "display_data"
    }
   ],
   "source": [
    "tab = df.groupby(\"COUNTRYNEW\").apply(calculer_prop).sort_values(ascending=False)[0:30]\n",
    "tab.plot(kind=\"barh\",color=\"orange\",figsize=(5,10))"
   ]
  },
  {
   "cell_type": "code",
   "execution_count": 66,
   "id": "1d5af4c8",
   "metadata": {},
   "outputs": [
    {
     "data": {
      "text/plain": [
       "Text(0, 0.5, 'Pays')"
      ]
     },
     "execution_count": 66,
     "metadata": {},
     "output_type": "execute_result"
    },
    {
     "data": {
      "image/png": "[encoded data removed]",
      "text/plain": [
       "<Figure size 360x720 with 1 Axes>"
      ]
     },
     "metadata": {
      "needs_background": "light"
     },
     "output_type": "display_data"
    }
   ],
   "source": [
    "import matplotlib.pyplot as plt\n",
    "ax = tab.plot(kind=\"barh\",color=\"orange\",figsize=(5,10))\n",
    "ax.set_title(\"Comprendre Science et Scientifique\")\n",
    "ax.set_xlabel(\"Pourcentages\")\n",
    "ax.set_ylabel(\"Pays\")"
   ]
  },
  {
   "cell_type": "markdown",
   "id": "da531986",
   "metadata": {},
   "source": [
    "## Exercice 3\n",
    "\n",
    "On veut comparer la France et la Suisse sur la confiance. Pour la série de questions W5A, W5B, ... sur la confiance, proposez une représentation visuelle qui compare les réponses des suisses et des français sur les différentes dimensions. \n",
    "\n",
    "Sauvegardez là sous forme .png"
   ]
  },
  {
   "cell_type": "code",
   "execution_count": 101,
   "id": "8526313a",
   "metadata": {},
   "outputs": [
    {
     "name": "stdout",
     "output_type": "stream",
     "text": [
      "Trust People in Neighborhood\n",
      "Trust the National Government in This Country\n",
      "Trust Scientists in This Country\n",
      "Trust Journalists in This Country\n",
      "Trust Doctors and Nurses in This Country\n",
      "Trust People Who Work at Charitable Organizations or NGOs in This Country\n",
      "Trust Traditional Healers in This Country\n",
      "{1.0: 'A lot', 2.0: 'Some', 3.0: 'Not much', 4.0: 'Not at all', 99.0: 'DK/Refused'}\n"
     ]
    }
   ],
   "source": [
    "print(question(\"W5A\",meta))\n",
    "print(question(\"W5B\",meta))\n",
    "print(question(\"W5C\",meta))\n",
    "print(question(\"W5D\",meta))\n",
    "print(question(\"W5E\",meta))\n",
    "print(question(\"W5F\",meta))\n",
    "print(question(\"W5G\",meta))\n",
    "print(modalites(\"W5A\",meta))"
   ]
  },
  {
   "cell_type": "code",
   "execution_count": 95,
   "id": "d9b49d8a",
   "metadata": {},
   "outputs": [],
   "source": [
    "pays = [\"France\",\"Switzerland\"]\n",
    "labels = {\"W5A\":\"Population\",\"W5B\":\"Gouvernement\",\"W5C\":\"Scientifiques\",\n",
    "         \"W5D\":\"Journalistes\",\"W5E\":\"Docteurs\",\"W5F\":\"Associations\",\"W5G\":\"Soignants\"}\n",
    "\n",
    "suisse = df[df[\"COUNTRYNEW\"]==\"Switzerland\"]\n",
    "france = df[df[\"COUNTRYNEW\"]==\"France\"]"
   ]
  },
  {
   "cell_type": "code",
   "execution_count": 85,
   "id": "e319558d",
   "metadata": {},
   "outputs": [
    {
     "data": {
      "text/plain": [
       "<AxesSubplot:>"
      ]
     },
     "execution_count": 85,
     "metadata": {},
     "output_type": "execute_result"
    },
    {
     "data": {
      "image/png": "[encoded data removed]",
      "text/plain": [
       "<Figure size 432x288 with 1 Axes>"
      ]
     },
     "metadata": {
      "needs_background": "light"
     },
     "output_type": "display_data"
    }
   ],
   "source": [
    "pyshs.tri_a_plat(suisse,\"W5B\",\"WGT\")[\"Pourcentage (%)\"].drop(\"Total\").plot(kind=\"bar\")"
   ]
  },
  {
   "cell_type": "code",
   "execution_count": 109,
   "id": "bf4a1938",
   "metadata": {},
   "outputs": [
    {
     "data": {
      "image/png": "[encoded data removed]",
      "text/plain": [
       "<Figure size 360x720 with 14 Axes>"
      ]
     },
     "metadata": {},
     "output_type": "display_data"
    }
   ],
   "source": [
    "fig,ax = plt.subplots(7,2,sharex=True,sharey=True,figsize=(5,10))\n",
    "\n",
    "colors = [\"green\",\"yellow\",\"orange\",\"red\",\"gray\"]\n",
    "for q,i in zip(labels,range(0,7)):\n",
    "    pyshs.tri_a_plat(suisse,q,\"WGT\")[\"Pourcentage (%)\"].drop(\"Total\").plot(kind=\"bar\",ax=ax[i][0],color=colors)\n",
    "    pyshs.tri_a_plat(france,q,\"WGT\")[\"Pourcentage (%)\"].drop(\"Total\").plot(kind=\"bar\",ax=ax[i][1],color=colors)\n",
    "    ax[i][0].set_ylabel(labels[q])\n",
    "\n",
    "ax[0][0].set_title(\"Suisse\")\n",
    "ax[0][1].set_title(\"France\")\n",
    "\n",
    "ax[-1][0].set_xticklabels([\"Beaucoup\",\"Plutôt\",\"Pas vraiment\",\"Pas du tout\",\"NA\"])\n",
    "\n",
    "ax[-1][0].tick_params(colors='gray',axis='x')\n",
    "ax[-1][1].tick_params(colors='gray',axis='x')\n",
    "\n",
    "#fig.savefig(\"Graphique.png\")"
   ]
  },
  {
   "cell_type": "markdown",
   "id": "fd19b6d3",
   "metadata": {},
   "source": [
    "## Exercice bonus\n",
    "\n",
    "(si vous avez des notions de statistiques sur les régressions logistiques)\n",
    "\n",
    "A partir de la bibliothèques Statsmodels, construisez une régression logistique sur la variable indicatrice 1 = ne pas (trop) savoir ce qu'est la science/les scientifiques, 0 sinon en prenant comme variables indépendantes le genre, l'âge divisé en 4 catégories, les revenus et le diplome"
   ]
  }
 ],
 "metadata": {
  "kernelspec": {
   "display_name": "Python 3 (ipykernel)",
   "language": "python",
   "name": "python3"
  },
  "language_info": {
   "codemirror_mode": {
    "name": "ipython",
    "version": 3
   },
   "file_extension": ".py",
   "mimetype": "text/x-python",
   "name": "python",
   "nbconvert_exporter": "python",
   "pygments_lexer": "ipython3",
   "version": "3.10.4"
  }
 },
 "nbformat": 4,
 "nbformat_minor": 5
}
