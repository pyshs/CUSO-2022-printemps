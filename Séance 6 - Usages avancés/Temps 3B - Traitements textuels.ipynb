{
 "cells": [
  {
   "cell_type": "markdown",
   "id": "2dd81b16",
   "metadata": {},
   "source": [
    "# Analyse de contenu textuel\n",
    "\n",
    "Traitement du texte -> TAL"
   ]
  },
  {
   "cell_type": "markdown",
   "id": "aef06eb0",
   "metadata": {},
   "source": [
    "### Chargement du corpus"
   ]
  },
  {
   "cell_type": "code",
   "execution_count": 4,
   "id": "0c23a84c",
   "metadata": {},
   "outputs": [
    {
     "data": {
      "text/html": [
       "<div>\n",
       "<style scoped>\n",
       "    .dataframe tbody tr th:only-of-type {\n",
       "        vertical-align: middle;\n",
       "    }\n",
       "\n",
       "    .dataframe tbody tr th {\n",
       "        vertical-align: top;\n",
       "    }\n",
       "\n",
       "    .dataframe thead th {\n",
       "        text-align: right;\n",
       "    }\n",
       "</style>\n",
       "<table border=\"1\" class=\"dataframe\">\n",
       "  <thead>\n",
       "    <tr style=\"text-align: right;\">\n",
       "      <th></th>\n",
       "      <th>Unnamed: 0</th>\n",
       "      <th>Date_reco</th>\n",
       "      <th>Date</th>\n",
       "      <th>Titre</th>\n",
       "      <th>Journal</th>\n",
       "      <th>Contenu</th>\n",
       "      <th>Auteur</th>\n",
       "      <th>Journaux-reco</th>\n",
       "      <th>Freq_chloro</th>\n",
       "    </tr>\n",
       "  </thead>\n",
       "  <tbody>\n",
       "    <tr>\n",
       "      <th>0</th>\n",
       "      <td>0</td>\n",
       "      <td>2021-07-02</td>\n",
       "      <td>International,  vendredi 2 juillet 2021 860 m...</td>\n",
       "      <td>La stratégie covid brésilienne, un acharnemen...</td>\n",
       "      <td>Le Temps</td>\n",
       "      <td>7056    @fabiengoubet   Avec Donald Trump en...</td>\n",
       "      <td>FABIEN GOUBET</td>\n",
       "      <td>Le Temps</td>\n",
       "      <td>4</td>\n",
       "    </tr>\n",
       "    <tr>\n",
       "      <th>1</th>\n",
       "      <td>1</td>\n",
       "      <td>2020-03-26</td>\n",
       "      <td>Science,  jeudi 26 mars 2020 2170 mots, p. 9</td>\n",
       "      <td>Chloroquine: une recherche controversée</td>\n",
       "      <td>Le Temps</td>\n",
       "      <td>6675    @fabiengoubet   Voilà un peu plus d'...</td>\n",
       "      <td>FABIEN GOUBET</td>\n",
       "      <td>Le Temps</td>\n",
       "      <td>19</td>\n",
       "    </tr>\n",
       "    <tr>\n",
       "      <th>2</th>\n",
       "      <td>2</td>\n",
       "      <td>2020-06-16</td>\n",
       "      <td>Économie,  mardi 16 juin 2020 1192 mots, p. 15</td>\n",
       "      <td>[Transport aérien...]</td>\n",
       "      <td>Tribune de Genève, no. 5326</td>\n",
       "      <td>Transport aérien   Qatar Airways va réduire ...</td>\n",
       "      <td>NaN</td>\n",
       "      <td>Tribune de Genève</td>\n",
       "      <td>20</td>\n",
       "    </tr>\n",
       "    <tr>\n",
       "      <th>3</th>\n",
       "      <td>3</td>\n",
       "      <td>2020-03-18</td>\n",
       "      <td>Science,  mercredi 18 mars 2020 1022 mots, p. 9</td>\n",
       "      <td>Une piste pour lutter contre le SARS-CoV-2</td>\n",
       "      <td>Le Temps</td>\n",
       "      <td>6668    (LE MONDE)   La course aux traitemen...</td>\n",
       "      <td>SANDRINE CABUT</td>\n",
       "      <td>Le Temps</td>\n",
       "      <td>18</td>\n",
       "    </tr>\n",
       "    <tr>\n",
       "      <th>4</th>\n",
       "      <td>4</td>\n",
       "      <td>2020-03-20</td>\n",
       "      <td>Point fort,  vendredi 20 mars 2020 1558 mots,...</td>\n",
       "      <td>[Coronavirus...]</td>\n",
       "      <td>24 Heures (Suisse), no. 4306  Région, Lausanne</td>\n",
       "      <td>Coronavirus   De la chloroquine contre le vi...</td>\n",
       "      <td>NaN</td>\n",
       "      <td>24 Heures</td>\n",
       "      <td>16</td>\n",
       "    </tr>\n",
       "  </tbody>\n",
       "</table>\n",
       "</div>"
      ],
      "text/plain": [
       "   Unnamed: 0   Date_reco                                               Date  \\\n",
       "0           0  2021-07-02   International,  vendredi 2 juillet 2021 860 m...   \n",
       "1           1  2020-03-26      Science,  jeudi 26 mars 2020 2170 mots, p. 9    \n",
       "2           2  2020-06-16    Économie,  mardi 16 juin 2020 1192 mots, p. 15    \n",
       "3           3  2020-03-18   Science,  mercredi 18 mars 2020 1022 mots, p. 9    \n",
       "4           4  2020-03-20   Point fort,  vendredi 20 mars 2020 1558 mots,...   \n",
       "\n",
       "                                               Titre  \\\n",
       "0   La stratégie covid brésilienne, un acharnemen...   \n",
       "1           Chloroquine: une recherche controversée    \n",
       "2                             [Transport aérien...]    \n",
       "3        Une piste pour lutter contre le SARS-CoV-2    \n",
       "4                                  [Coronavirus...]    \n",
       "\n",
       "                                            Journal  \\\n",
       "0                                       Le Temps      \n",
       "1                                       Le Temps      \n",
       "2                    Tribune de Genève, no. 5326      \n",
       "3                                       Le Temps      \n",
       "4   24 Heures (Suisse), no. 4306  Région, Lausanne    \n",
       "\n",
       "                                             Contenu          Auteur  \\\n",
       "0    7056    @fabiengoubet   Avec Donald Trump en...   FABIEN GOUBET   \n",
       "1    6675    @fabiengoubet   Voilà un peu plus d'...   FABIEN GOUBET   \n",
       "2    Transport aérien   Qatar Airways va réduire ...             NaN   \n",
       "3    6668    (LE MONDE)   La course aux traitemen...  SANDRINE CABUT   \n",
       "4    Coronavirus   De la chloroquine contre le vi...             NaN   \n",
       "\n",
       "       Journaux-reco  Freq_chloro  \n",
       "0           Le Temps            4  \n",
       "1           Le Temps           19  \n",
       "2  Tribune de Genève           20  \n",
       "3           Le Temps           18  \n",
       "4          24 Heures           16  "
      ]
     },
     "execution_count": 4,
     "metadata": {},
     "output_type": "execute_result"
    }
   ],
   "source": [
    "import pandas as pd\n",
    "corpus = pd.read_csv(\"europresse_HC_suisse_mod.csv\")\n",
    "corpus.head()"
   ]
  },
  {
   "cell_type": "markdown",
   "id": "bbdaf9fb",
   "metadata": {},
   "source": [
    "## Utiliser des traitements statistiques\n",
    "\n",
    "Texte -> vecteur -> traitements statistiques\n",
    "\n",
    "Le mot (ou le lemme) comme unité de base, puis des méthodes génériques\n",
    "\n",
    "(par ex ici : https://towardsdatascience.com/clustering-documents-with-python-97314ad6a78d)"
   ]
  },
  {
   "cell_type": "code",
   "execution_count": 60,
   "id": "7fcd5791",
   "metadata": {},
   "outputs": [],
   "source": [
    "# Utilisation de sklearn (mais possible d'utiliser d'autres bibliothèques)\n",
    "from sklearn.feature_extraction.text import TfidfVectorizer\n",
    "\n",
    "# Création d'un objet de vectorisation\n",
    "vectorizer = TfidfVectorizer(stop_words={'french'})\n",
    "\n",
    "# Application\n",
    "X = vectorizer.fit_transform(corpus[\"Contenu\"])"
   ]
  },
  {
   "cell_type": "code",
   "execution_count": 80,
   "id": "617f9db1",
   "metadata": {},
   "outputs": [
    {
     "data": {
      "text/plain": [
       "['gone',\n",
       " 'gonflé',\n",
       " 'gonflés',\n",
       " 'gonin',\n",
       " 'gonzales',\n",
       " 'gonzalez',\n",
       " 'good',\n",
       " 'goodman',\n",
       " 'google',\n",
       " 'gooneratne']"
      ]
     },
     "execution_count": 80,
     "metadata": {},
     "output_type": "execute_result"
    }
   ],
   "source": [
    "vectorizer.get_feature_names()[10000:10010]"
   ]
  },
  {
   "cell_type": "code",
   "execution_count": 71,
   "id": "c7fcd786",
   "metadata": {},
   "outputs": [
    {
     "data": {
      "text/plain": [
       "matrix([[0., 0., 0., ..., 0., 0., 0.]])"
      ]
     },
     "execution_count": 71,
     "metadata": {},
     "output_type": "execute_result"
    }
   ],
   "source": [
    "X[1,:].todense()"
   ]
  },
  {
   "cell_type": "markdown",
   "id": "427b5485",
   "metadata": {},
   "source": [
    "Une fois la matrice obtenue, il est possible d'appliquer une méthode numérique de clusters\n",
    "\n",
    "(ici la méthode des K-means : trouver les N groupes qui minimisent la distance suivant certaines règles"
   ]
  },
  {
   "cell_type": "markdown",
   "id": "849a6b33",
   "metadata": {},
   "source": [
    "On teste plusieurs N pour trouver celui qui marche le mieux ..."
   ]
  },
  {
   "cell_type": "code",
   "execution_count": 18,
   "id": "22677b32",
   "metadata": {},
   "outputs": [
    {
     "data": {
      "text/plain": [
       "Text(0, 0.5, 'Sum_of_squared_distances')"
      ]
     },
     "execution_count": 18,
     "metadata": {},
     "output_type": "execute_result"
    },
    {
     "data": {
      "image/png": "[encoded data removed]",
      "text/plain": [
       "<Figure size 432x288 with 1 Axes>"
      ]
     },
     "metadata": {
      "needs_background": "light"
     },
     "output_type": "display_data"
    }
   ],
   "source": [
    "import matplotlib.pyplot as plt\n",
    "from sklearn.cluster import KMeans\n",
    "\n",
    "\n",
    "Sum_of_squared_distances = []\n",
    "K = range(2,30)\n",
    "for k in K:\n",
    "    km = KMeans(n_clusters=k, max_iter=200, n_init=10)\n",
    "    km = km.fit(X)\n",
    "    Sum_of_squared_distances.append(km.inertia_)\n",
    "    \n",
    "plt.plot(K, Sum_of_squared_distances, 'bx-')\n",
    "plt.xlabel('k')\n",
    "plt.ylabel('Sum_of_squared_distances')"
   ]
  },
  {
   "cell_type": "markdown",
   "id": "fef5e6bc",
   "metadata": {},
   "source": [
    "Application d'un clustering"
   ]
  },
  {
   "cell_type": "code",
   "execution_count": 13,
   "id": "90b0b8e8",
   "metadata": {},
   "outputs": [],
   "source": [
    "true_k = 10\n",
    "model = KMeans(n_clusters=true_k, init='k-means++', max_iter=200, n_init=10)\n",
    "model.fit(X)\n",
    "corpus[\"labels\"] = model.labels_"
   ]
  },
  {
   "cell_type": "code",
   "execution_count": 17,
   "id": "c9621b40",
   "metadata": {},
   "outputs": [
    {
     "data": {
      "text/html": [
       "<div>\n",
       "<style scoped>\n",
       "    .dataframe tbody tr th:only-of-type {\n",
       "        vertical-align: middle;\n",
       "    }\n",
       "\n",
       "    .dataframe tbody tr th {\n",
       "        vertical-align: top;\n",
       "    }\n",
       "\n",
       "    .dataframe thead th {\n",
       "        text-align: right;\n",
       "    }\n",
       "</style>\n",
       "<table border=\"1\" class=\"dataframe\">\n",
       "  <thead>\n",
       "    <tr style=\"text-align: right;\">\n",
       "      <th></th>\n",
       "      <th>Unnamed: 0</th>\n",
       "      <th>Date_reco</th>\n",
       "      <th>Date</th>\n",
       "      <th>Titre</th>\n",
       "      <th>Journal</th>\n",
       "      <th>Contenu</th>\n",
       "      <th>Auteur</th>\n",
       "      <th>Journaux-reco</th>\n",
       "      <th>Freq_chloro</th>\n",
       "      <th>labels</th>\n",
       "    </tr>\n",
       "  </thead>\n",
       "  <tbody>\n",
       "    <tr>\n",
       "      <th>89</th>\n",
       "      <td>89</td>\n",
       "      <td>NaN</td>\n",
       "      <td>Bench Marks!,  Tuesday, September 22, 2020 14...</td>\n",
       "      <td>Chemical Concentrations in Cell Culture Compa...</td>\n",
       "      <td>ALTEX: Alternatives to Animal Experimentation...</td>\n",
       "      <td>10.14573/altex.2008251 In biological systems...</td>\n",
       "      <td>Kisitu, Jaffar - Hollert, Henner - Fisher, Cia...</td>\n",
       "      <td>Autre</td>\n",
       "      <td>2</td>\n",
       "      <td>2</td>\n",
       "    </tr>\n",
       "    <tr>\n",
       "      <th>126</th>\n",
       "      <td>126</td>\n",
       "      <td>NaN</td>\n",
       "      <td>Monday, June 1, 2020 7558 mots, p. 3(18)</td>\n",
       "      <td>\"You Must Adhere Strictly to the Time and Day...</td>\n",
       "      <td>Linguistik Online, no. Vol. 102, no 2</td>\n",
       "      <td>10.13092/lo.102.6812 Using the methodology o...</td>\n",
       "      <td>Boluwaduro, Eniola</td>\n",
       "      <td>Autre</td>\n",
       "      <td>2</td>\n",
       "      <td>2</td>\n",
       "    </tr>\n",
       "    <tr>\n",
       "      <th>217</th>\n",
       "      <td>217</td>\n",
       "      <td>NaN</td>\n",
       "      <td>Tuesday, January 1, 2019 14364 mots, p. 39(26)</td>\n",
       "      <td>Investigating Cell Type Specific Mechanisms C...</td>\n",
       "      <td>ALTEX: Alternatives to Animal Experimentation...</td>\n",
       "      <td>10.14573/altex.1805181 The replacement of an...</td>\n",
       "      <td>NaN</td>\n",
       "      <td>Autre</td>\n",
       "      <td>2</td>\n",
       "      <td>2</td>\n",
       "    </tr>\n",
       "    <tr>\n",
       "      <th>235</th>\n",
       "      <td>235</td>\n",
       "      <td>NaN</td>\n",
       "      <td>Wednesday, December 5, 2018 1280 mots, p. NA</td>\n",
       "      <td>Venezuela gold rush feeds a growing malaria e...</td>\n",
       "      <td>IRIN Africa</td>\n",
       "      <td>Handsome and with neatly slicked hair, Victo...</td>\n",
       "      <td>NaN</td>\n",
       "      <td>Autre</td>\n",
       "      <td>1</td>\n",
       "      <td>2</td>\n",
       "    </tr>\n",
       "  </tbody>\n",
       "</table>\n",
       "</div>"
      ],
      "text/plain": [
       "     Unnamed: 0 Date_reco                                               Date  \\\n",
       "89           89       NaN   Bench Marks!,  Tuesday, September 22, 2020 14...   \n",
       "126         126       NaN          Monday, June 1, 2020 7558 mots, p. 3(18)    \n",
       "217         217       NaN    Tuesday, January 1, 2019 14364 mots, p. 39(26)    \n",
       "235         235       NaN      Wednesday, December 5, 2018 1280 mots, p. NA    \n",
       "\n",
       "                                                 Titre  \\\n",
       "89    Chemical Concentrations in Cell Culture Compa...   \n",
       "126   \"You Must Adhere Strictly to the Time and Day...   \n",
       "217   Investigating Cell Type Specific Mechanisms C...   \n",
       "235   Venezuela gold rush feeds a growing malaria e...   \n",
       "\n",
       "                                               Journal  \\\n",
       "89    ALTEX: Alternatives to Animal Experimentation...   \n",
       "126           Linguistik Online, no. Vol. 102, no 2      \n",
       "217   ALTEX: Alternatives to Animal Experimentation...   \n",
       "235                                     IRIN Africa      \n",
       "\n",
       "                                               Contenu  \\\n",
       "89     10.14573/altex.2008251 In biological systems...   \n",
       "126    10.13092/lo.102.6812 Using the methodology o...   \n",
       "217    10.14573/altex.1805181 The replacement of an...   \n",
       "235    Handsome and with neatly slicked hair, Victo...   \n",
       "\n",
       "                                                Auteur Journaux-reco  \\\n",
       "89   Kisitu, Jaffar - Hollert, Henner - Fisher, Cia...         Autre   \n",
       "126                                 Boluwaduro, Eniola         Autre   \n",
       "217                                                NaN         Autre   \n",
       "235                                                NaN         Autre   \n",
       "\n",
       "     Freq_chloro  labels  \n",
       "89             2       2  \n",
       "126            2       2  \n",
       "217            2       2  \n",
       "235            1       2  "
      ]
     },
     "execution_count": 17,
     "metadata": {},
     "output_type": "execute_result"
    }
   ],
   "source": [
    "corpus[corpus[\"labels\"]==2]"
   ]
  },
  {
   "cell_type": "markdown",
   "id": "afd587c7",
   "metadata": {},
   "source": [
    "## Utiliser une bibliothèque de TAL\n",
    "\n",
    "SpaCy est assez mature\n",
    "\n",
    "Si ça vous intéresse : https://www.youtube.com/c/PythonTutorialsforDigitalHumanities/playlists?view=50&sort=dd&shelf_id=4\n",
    " "
   ]
  },
  {
   "cell_type": "markdown",
   "id": "5db19ccf",
   "metadata": {},
   "source": [
    "![blob](https://spacy.io/pipeline-fde48da9b43661abcdf62ab70a546d71.svg)"
   ]
  },
  {
   "cell_type": "code",
   "execution_count": 23,
   "id": "f7d66e71",
   "metadata": {},
   "outputs": [],
   "source": [
    "import spacy\n",
    "\n",
    "# https://spacy.io/models/fr -> installer le modèle\n",
    "#!python -m spacy download fr_core_news_md #sm\n",
    "\n",
    "nlp = spacy.load(\"fr_core_news_md\")"
   ]
  },
  {
   "cell_type": "code",
   "execution_count": 25,
   "id": "a63ecc5e",
   "metadata": {},
   "outputs": [
    {
     "data": {
      "text/plain": [
       "[('tok2vec', <spacy.pipeline.tok2vec.Tok2Vec at 0x146815000>),\n",
       " ('morphologizer',\n",
       "  <spacy.pipeline.morphologizer.Morphologizer at 0x1468159c0>),\n",
       " ('parser', <spacy.pipeline.dep_parser.DependencyParser at 0x14633d700>),\n",
       " ('attribute_ruler',\n",
       "  <spacy.pipeline.attributeruler.AttributeRuler at 0x1460e8d00>),\n",
       " ('lemmatizer', <spacy.lang.fr.lemmatizer.FrenchLemmatizer at 0x1460eb7c0>),\n",
       " ('ner', <spacy.pipeline.ner.EntityRecognizer at 0x14633d8c0>)]"
      ]
     },
     "execution_count": 25,
     "metadata": {},
     "output_type": "execute_result"
    }
   ],
   "source": [
    "nlp.pipeline"
   ]
  },
  {
   "cell_type": "markdown",
   "id": "c47eef81",
   "metadata": {},
   "source": [
    "Test sur une phrase"
   ]
  },
  {
   "cell_type": "code",
   "execution_count": 32,
   "id": "add76089",
   "metadata": {},
   "outputs": [],
   "source": [
    "phrase_enveloppee = nlp(\"Tester ceci sur une phrase. Est-ce que cela va marcher ?\")"
   ]
  },
  {
   "cell_type": "code",
   "execution_count": 30,
   "id": "900c5dc3",
   "metadata": {},
   "outputs": [
    {
     "name": "stdout",
     "output_type": "stream",
     "text": [
      "Tester VERB\n",
      "ceci PRON\n",
      "sur ADP\n",
      "une DET\n",
      "phrase NOUN\n",
      ". PUNCT\n",
      "Est NOUN\n",
      "-ce PRON\n",
      "que SCONJ\n",
      "cela PRON\n",
      "va VERB\n",
      "marcher VERB\n",
      "? PUNCT\n"
     ]
    }
   ],
   "source": [
    "for i in phrase_enveloppee:\n",
    "    print(i,i.pos_)"
   ]
  },
  {
   "cell_type": "code",
   "execution_count": 33,
   "id": "7b44fe7b",
   "metadata": {},
   "outputs": [
    {
     "data": {
      "text/plain": [
       "()"
      ]
     },
     "execution_count": 33,
     "metadata": {},
     "output_type": "execute_result"
    }
   ],
   "source": [
    "phrase_enveloppee.ents"
   ]
  },
  {
   "cell_type": "markdown",
   "id": "483e76e9",
   "metadata": {},
   "source": [
    "Application sur le corpus"
   ]
  },
  {
   "cell_type": "code",
   "execution_count": 34,
   "id": "9b143030",
   "metadata": {},
   "outputs": [],
   "source": [
    "corpus[\"Spacy\"] = corpus[\"Contenu\"].apply(nlp)"
   ]
  },
  {
   "cell_type": "markdown",
   "id": "23a112ec",
   "metadata": {},
   "source": [
    "Détection d'entités"
   ]
  },
  {
   "cell_type": "code",
   "execution_count": 39,
   "id": "ac2f65e8",
   "metadata": {},
   "outputs": [
    {
     "data": {
      "text/plain": [
       "(MONDE,\n",
       " Nivaquine,\n",
       " Chine,\n",
       " Plaquenil,\n",
       " SARS-CoV-2,\n",
       " France,\n",
       " Didier Raoult,\n",
       " Institut hospitalo-universitaire,\n",
       " Méditerranée,\n",
       " Marseille,\n",
       " ministre de la Santé,\n",
       " Plaquenil,\n",
       " Allemagne,\n",
       " SARS,\n",
       " Chine,\n",
       " Cell Research,\n",
       " Chine,\n",
       " BioScience,\n",
       " Zhong Nanshan,\n",
       " SARS,\n",
       " Chinois,\n",
       " Didier Raoult,\n",
       " CPP,\n",
       " Agence nationale de sécurité du médicament et des produits de santé,\n",
       " ANSM,\n",
       " Raoult,\n",
       " Pour ce spécialiste des maladies infectieuses,\n",
       " Covid-19,\n",
       " Chine,\n",
       " Iran,\n",
       " Corée du Sud,\n",
       " Arabie saoudite,\n",
       " France,\n",
       " CRPV,\n",
       " Covid-19,\n",
       " Covid-19,\n",
       " Sanofi,\n",
       " Dépakine,\n",
       " Nivaquine,\n",
       " Le Monde,\n",
       " Chine,\n",
       " Iran,\n",
       " Corée du Sud,\n",
       " Arabie saoudite,\n",
       " DIRECTEUR DE,\n",
       " MARSEILLE)"
      ]
     },
     "execution_count": 39,
     "metadata": {},
     "output_type": "execute_result"
    }
   ],
   "source": [
    "corpus[\"Spacy\"].iloc[3].ents"
   ]
  },
  {
   "cell_type": "markdown",
   "id": "4882f1a5",
   "metadata": {},
   "source": [
    "Ne garder que les noms mentionnés dans l'article"
   ]
  },
  {
   "cell_type": "code",
   "execution_count": 40,
   "id": "19374ec4",
   "metadata": {},
   "outputs": [],
   "source": [
    "def filter_words(x):\n",
    "    r = []\n",
    "    for token in x:\n",
    "        if token.pos_ == \"NOUN\":\n",
    "            r.append(token.lemma_)\n",
    "    return r"
   ]
  },
  {
   "cell_type": "code",
   "execution_count": 41,
   "id": "d8b5bd20",
   "metadata": {},
   "outputs": [],
   "source": [
    "corpus[\"BOW\"] = corpus[\"Spacy\"].apply(filter_words)"
   ]
  },
  {
   "cell_type": "code",
   "execution_count": 42,
   "id": "822c79e4",
   "metadata": {},
   "outputs": [
    {
     "data": {
      "text/plain": [
       "['chercheur',\n",
       " 'mort',\n",
       " 'étude',\n",
       " 'chloroquine',\n",
       " 'polémique',\n",
       " 'cible',\n",
       " 'uneviolente',\n",
       " 'scientifique',\n",
       " 'romand',\n",
       " 'tribunedan',\n",
       " 'plainte',\n",
       " 'science',\n",
       " 'controverse',\n",
       " 'dispute',\n",
       " 'violence',\n",
       " 'étude',\n",
       " 'inutilité',\n",
       " 'dangerosité',\n",
       " 'chloroquine',\n",
       " 'coronavirus',\n",
       " 'chercheur',\n",
       " 'université',\n",
       " 'objet',\n",
       " 'campagne',\n",
       " 'raillerie',\n",
       " 'intimidation',\n",
       " 'insulte',\n",
       " 'homophobe',\n",
       " 'menace',\n",
       " 'mort',\n",
       " 'cabale',\n",
       " 'prochloroquine',\n",
       " 'publication',\n",
       " 'étude',\n",
       " 'revue',\n",
       " 'infection',\n",
       " 'fin',\n",
       " 'août',\n",
       " 'centaine',\n",
       " 'message',\n",
       " 'insulte',\n",
       " 'menace',\n",
       " 'coup',\n",
       " 'téléphone',\n",
       " 'parent',\n",
       " 'biochimie',\n",
       " 'collègue',\n",
       " 'droit',\n",
       " 'salve',\n",
       " 'acabit',\n",
       " 'appel',\n",
       " 'assassin',\n",
       " 'humanité',\n",
       " 'pharma',\n",
       " 'rue',\n",
       " 'vidéo',\n",
       " 'soutien',\n",
       " 'confrère',\n",
       " 'période',\n",
       " 'peur',\n",
       " 'téléphone',\n",
       " 'saisie',\n",
       " 'traitement',\n",
       " 'mois',\n",
       " 'débat',\n",
       " 'médicament',\n",
       " 'voisin',\n",
       " 'impulsion',\n",
       " 'professeur',\n",
       " 'chantre',\n",
       " 'molécule',\n",
       " 'ordre',\n",
       " 'médecin',\n",
       " 'partisan',\n",
       " 'opposant',\n",
       " 'traitement',\n",
       " 'mois',\n",
       " 'chercheur',\n",
       " 'assaillant',\n",
       " 'majorité',\n",
       " 'attaque',\n",
       " 'sud',\n",
       " 'hôpital',\n",
       " 'attaque',\n",
       " 'droit',\n",
       " 'insulte',\n",
       " 'liaison',\n",
       " 'confrère',\n",
       " 'injure',\n",
       " 'téléphone',\n",
       " 'mort',\n",
       " 'groupe',\n",
       " 'centaine',\n",
       " 'millier',\n",
       " 'personne',\n",
       " 'réseau',\n",
       " 'numéro',\n",
       " 'téléphone',\n",
       " 'adresse',\n",
       " 'internaute',\n",
       " 'chercheur',\n",
       " 'dossier',\n",
       " 'page',\n",
       " 'fichier',\n",
       " 'main',\n",
       " 'justice',\n",
       " 'plainte',\n",
       " 'cyberharcèlement',\n",
       " 'épidémiologiste',\n",
       " 'origine',\n",
       " 'étude',\n",
       " 'justice',\n",
       " 'marge',\n",
       " 'démarche',\n",
       " 'chercheur',\n",
       " 'tribune',\n",
       " 'revue',\n",
       " 'vendredi',\n",
       " 'conte',\n",
       " 'populisme',\n",
       " 'obscurantisme',\n",
       " 'texte',\n",
       " 'message',\n",
       " 'campagne',\n",
       " 'chercheur',\n",
       " 'période',\n",
       " 'doute',\n",
       " 'crainte',\n",
       " 'monde',\n",
       " 'information',\n",
       " 'option',\n",
       " 'recherche',\n",
       " 'plainte',\n",
       " 'cyber',\n",
       " 'stade',\n",
       " 'plainte',\n",
       " 'service',\n",
       " 'université',\n",
       " 'suite',\n",
       " 'lâche',\n",
       " 'm',\n",
       " 'fin',\n",
       " 'affaire',\n",
       " 'conseille',\n",
       " 'position',\n",
       " 'police',\n",
       " 'personne',\n",
       " 'infraction',\n",
       " 'harcèlement',\n",
       " 'ligne',\n",
       " 'cas',\n",
       " 'police',\n",
       " 'plainte',\n",
       " 'auteur',\n",
       " 'justice',\n",
       " 'victime',\n",
       " 'police',\n",
       " 'travail',\n",
       " 'enquête',\n",
       " 'contenu',\n",
       " 'hébergeur',\n",
       " 'plateforme',\n",
       " 'dépôt',\n",
       " 'plainte',\n",
       " 'étendue',\n",
       " 'pratique',\n",
       " 'web',\n",
       " 'plainte',\n",
       " 'genre',\n",
       " 'janvier',\n",
       " 'infraction',\n",
       " 'cyberharcèlement',\n",
       " 'droit',\n",
       " 'force',\n",
       " 'ordre',\n",
       " 'face',\n",
       " 'police',\n",
       " 'brigade',\n",
       " 'domaine',\n",
       " 'cyber',\n",
       " 'enquêteur',\n",
       " 'spécialiste',\n",
       " 'acte',\n",
       " 'connaissance',\n",
       " 'élément',\n",
       " 'preuve',\n",
       " 'victime',\n",
       " 'capture',\n",
       " 'écran',\n",
       " 'photo',\n",
       " 'échange',\n",
       " 'mail',\n",
       " 'chat',\n",
       " 'insulte',\n",
       " 'menace',\n",
       " 'auteur',\n",
       " 'agissement',\n",
       " 'fait',\n",
       " 'auteur',\n",
       " 'justice']"
      ]
     },
     "execution_count": 42,
     "metadata": {},
     "output_type": "execute_result"
    }
   ],
   "source": [
    "corpus[\"BOW\"].iloc[10]"
   ]
  },
  {
   "cell_type": "markdown",
   "id": "b8809a29",
   "metadata": {},
   "source": [
    "Et ensuite ... construire des modèles :)"
   ]
  },
  {
   "cell_type": "code",
   "execution_count": 57,
   "id": "aaf8c453",
   "metadata": {},
   "outputs": [],
   "source": [
    "a = corpus[\"Spacy\"].loc[10]"
   ]
  },
  {
   "cell_type": "code",
   "execution_count": 59,
   "id": "1d1fb69c",
   "metadata": {},
   "outputs": [
    {
     "data": {
      "text/plain": [
       "0      0.976567\n",
       "1      0.978755\n",
       "2      0.918640\n",
       "3      0.936945\n",
       "4      0.953656\n",
       "         ...   \n",
       "232    0.961570\n",
       "233    0.964838\n",
       "234    0.965946\n",
       "235   -0.064989\n",
       "236    0.962488\n",
       "Name: Spacy, Length: 237, dtype: float64"
      ]
     },
     "execution_count": 59,
     "metadata": {},
     "output_type": "execute_result"
    }
   ],
   "source": [
    "corpus[\"Spacy\"].apply(lambda x : x.similarity(a))"
   ]
  }
 ],
 "metadata": {
  "kernelspec": {
   "display_name": "Python 3 (ipykernel)",
   "language": "python",
   "name": "python3"
  },
  "language_info": {
   "codemirror_mode": {
    "name": "ipython",
    "version": 3
   },
   "file_extension": ".py",
   "mimetype": "text/x-python",
   "name": "python",
   "nbconvert_exporter": "python",
   "pygments_lexer": "ipython3",
   "version": "3.10.4"
  }
 },
 "nbformat": 4,
 "nbformat_minor": 5
}
