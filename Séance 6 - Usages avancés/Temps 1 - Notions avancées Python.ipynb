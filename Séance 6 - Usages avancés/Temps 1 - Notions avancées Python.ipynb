{
 "cells": [
  {
   "cell_type": "markdown",
   "metadata": {},
   "source": [
    "# Notions avancées en Python"
   ]
  },
  {
   "cell_type": "markdown",
   "metadata": {},
   "source": [
    "On aimerait améliorer notre chargement de données pour analyser uniquemement un pays\n",
    "\n",
    "Pour cela on va voir quelques notions qu'on a pas encore vu :\n",
    "\n",
    "- compréhension de liste\n",
    "- gestion des exceptions\n",
    "- création de class\n",
    "- construction d'un module\n",
    "\n",
    "Et si on a le temps les commandes magiques."
   ]
  },
  {
   "cell_type": "markdown",
   "metadata": {},
   "source": [
    "Notre point de départ : un script comme celui de la semaine dernière bricolé\n",
    "\n",
    "Notre point d'arrivé : cacher un peu tout ça"
   ]
  },
  {
   "cell_type": "markdown",
   "metadata": {},
   "source": [
    "## 0. Chargement des données & recodage"
   ]
  },
  {
   "cell_type": "code",
   "execution_count": 1,
   "metadata": {},
   "outputs": [],
   "source": [
    "import pandas as pd\n",
    "\n",
    "pd.options.mode.chained_assignment = None  # default='warn'\n",
    "import pyshs\n",
    "import matplotlib.pyplot as plt\n",
    "import pyreadstat\n",
    "\n",
    "\n",
    "def question(v, meta):\n",
    "    return meta.column_names_to_labels[v]\n",
    "\n",
    "\n",
    "def modalites(v, meta):\n",
    "    return meta.value_labels[meta.variable_to_label[v]]\n",
    "\n",
    "\n",
    "df, meta = pyreadstat.read_sav(\"./wgm-full-wave2-public-file.sav\")\n",
    "\n",
    "# Sélection de la suisse\n",
    "data = df[df[\"COUNTRYNEW\"] == \"Switzerland\"]\n",
    "\n",
    "data[\"poids\"] = data[\"WGT\"]\n",
    "data[\"pays\"] = data[\"COUNTRYNEW\"]\n",
    "data[\"age\"] = data[\"Age\"].fillna(\"NA\")\n",
    "data[\"age_reco\"] = pd.cut(\n",
    "    data[\"Age\"],\n",
    "    [0, 35, 45, 55, 65, 100],\n",
    "    labels=[\"1-[15-35[\", \"2-[35-45[\", \"3-[45-55[\", \"4-[55-65[\", \"5-[65-75]\"],\n",
    ")\n",
    "data[\"genre\"] = data[\"Gender\"].replace({1.0: \"1-Male\", 2.0: \"2-Female\"})\n",
    "data[\"education\"] = data[\"Education\"].replace(modalites(\"Education\", meta))\n",
    "data[\"revenus\"] = data[\"Household_Income\"].replace(\n",
    "    {1.0: \"Q1\", 2.0: \"Q2\", 3: \"Q3\", 4: \"Q4\", 5: \"Q5\"}\n",
    ")\n",
    "\n",
    "\n",
    "reco = {\n",
    "    1: \"1-A lot\",\n",
    "    2: \"2-Some\",\n",
    "    3: \"3-Not much/at all\",\n",
    "    4: \"3-Not much/at all\",\n",
    "    99: \"4-NA\",\n",
    "}\n",
    "data[\"connaissance_science\"] = data[\"W1\"].replace(reco)\n",
    "data[\"comprendre_science\"] = data[\"W2\"].replace(reco)\n",
    "data[\"education_science\"] = data[\"W3\"].replace(modalites(\"W3\", meta))\n",
    "data[\"confiance_hopital\"] = data[\"W4\"].replace(reco)\n",
    "data[\"confiance_science\"] = data[\"W6\"].replace(reco)"
   ]
  },
  {
   "cell_type": "markdown",
   "metadata": {},
   "source": [
    "### Est-ce qu'un pays est dans la liste ?\n",
    "\n",
    "Notion de list comprehension"
   ]
  },
  {
   "cell_type": "code",
   "execution_count": 2,
   "metadata": {},
   "outputs": [],
   "source": [
    "pays = df[\"COUNTRYNEW\"].unique()"
   ]
  },
  {
   "cell_type": "code",
   "execution_count": 3,
   "metadata": {},
   "outputs": [
    {
     "data": {
      "text/plain": [
       "array(['United States', 'Egypt', 'Morocco', 'Lebanon', 'Saudi Arabia',\n",
       "       'Jordan', 'Turkey', 'Indonesia', 'Bangladesh', 'United Kingdom',\n",
       "       'France', 'Germany', 'Netherlands', 'Belgium', 'Spain', 'Italy',\n",
       "       'Poland', 'Hungary', 'Czech Republic', 'Romania', 'Sweden',\n",
       "       'Greece', 'Denmark', 'Iran', 'Hong Kong', 'Japan', 'China',\n",
       "       'India', 'Venezuela', 'Brazil', 'Mexico', 'Nigeria', 'Kenya',\n",
       "       'Tanzania', 'Israel', 'Ghana', 'Uganda', 'Benin', 'South Africa',\n",
       "       'Canada', 'Australia', 'Philippines', 'Sri Lanka', 'Vietnam',\n",
       "       'Thailand', 'Cambodia', 'Laos', 'Myanmar', 'New Zealand',\n",
       "       'Ethiopia', 'Mali', 'Senegal', 'Zambia', 'South Korea', 'Taiwan',\n",
       "       'Georgia', 'Kazakhstan', 'Kyrgyzstan', 'Moldova', 'Russia',\n",
       "       'Ukraine', 'Burkina Faso', 'Cameroon', 'Zimbabwe', 'Costa Rica',\n",
       "       'Albania', 'Algeria', 'Argentina', 'Austria', 'Bahrain', 'Bolivia',\n",
       "       'Bosnia Herzegovina', 'Bulgaria', 'Chile', 'Colombia',\n",
       "       'Congo Brazzaville', 'Croatia', 'Cyprus', 'Dominican Republic',\n",
       "       'Ecuador', 'El Salvador', 'Estonia', 'Finland', 'Gabon', 'Guinea',\n",
       "       'Iraq', 'Ireland', 'Ivory Coast', 'Latvia', 'Lithuania',\n",
       "       'North Macedonia', 'Malaysia', 'Malta', 'Mauritius', 'Mongolia',\n",
       "       'Montenegro', 'Namibia', 'Nepal', 'Nicaragua', 'Norway',\n",
       "       'Paraguay', 'Peru', 'Portugal', 'Serbia', 'Slovakia', 'Slovenia',\n",
       "       'Switzerland', 'Tajikistan', 'Tunisia', 'United Arab Emirates',\n",
       "       'Uruguay', 'Uzbekistan', 'Kosovo'], dtype=object)"
      ]
     },
     "execution_count": 3,
     "metadata": {},
     "output_type": "execute_result"
    }
   ],
   "source": [
    "pays"
   ]
  },
  {
   "cell_type": "markdown",
   "metadata": {},
   "source": [
    "Une boucle très courante:"
   ]
  },
  {
   "cell_type": "code",
   "execution_count": 4,
   "metadata": {},
   "outputs": [
    {
     "data": {
      "text/plain": [
       "['United States', 'United Kingdom', 'United Arab Emirates']"
      ]
     },
     "execution_count": 4,
     "metadata": {},
     "output_type": "execute_result"
    }
   ],
   "source": [
    "ma_nouvelle_liste = []\n",
    "\n",
    "for p in pays:\n",
    "    if \"united\" in p.lower(): \n",
    "        ma_nouvelle_liste.append(p)\n",
    "\n",
    "ma_nouvelle_liste"
   ]
  },
  {
   "cell_type": "markdown",
   "metadata": {},
   "source": [
    "1. on boucle sur tous les éléments.\n",
    "2. optionel: on ignore certains éléments. (aka \"filter\")\n",
    "3. transformations (aka \"map\"):\n",
    "\n",
    "   - optionel: on transforme les éléments qui restent (aka \"map\")\n",
    "   - les opérations sur chaque élement sont indépendantes"
   ]
  },
  {
   "cell_type": "markdown",
   "metadata": {},
   "source": [
    "Pour parcourir une liste et filtrer par exemple que les pays qui ont dans le nom \"United\" on peut faire une boule mais on peut aussi utiliser la list comprehension"
   ]
  },
  {
   "cell_type": "code",
   "execution_count": 5,
   "metadata": {},
   "outputs": [
    {
     "data": {
      "text/plain": [
       "['United States',\n",
       " 'Egypt',\n",
       " 'Morocco',\n",
       " 'Lebanon',\n",
       " 'Saudi Arabia',\n",
       " 'Jordan',\n",
       " 'Turkey',\n",
       " 'Indonesia',\n",
       " 'Bangladesh',\n",
       " 'United Kingdom',\n",
       " 'France',\n",
       " 'Germany',\n",
       " 'Netherlands',\n",
       " 'Belgium',\n",
       " 'Spain',\n",
       " 'Italy',\n",
       " 'Poland',\n",
       " 'Hungary',\n",
       " 'Czech Republic',\n",
       " 'Romania',\n",
       " 'Sweden',\n",
       " 'Greece',\n",
       " 'Denmark',\n",
       " 'Iran',\n",
       " 'Hong Kong',\n",
       " 'Japan',\n",
       " 'China',\n",
       " 'India',\n",
       " 'Venezuela',\n",
       " 'Brazil',\n",
       " 'Mexico',\n",
       " 'Nigeria',\n",
       " 'Kenya',\n",
       " 'Tanzania',\n",
       " 'Israel',\n",
       " 'Ghana',\n",
       " 'Uganda',\n",
       " 'Benin',\n",
       " 'South Africa',\n",
       " 'Canada',\n",
       " 'Australia',\n",
       " 'Philippines',\n",
       " 'Sri Lanka',\n",
       " 'Vietnam',\n",
       " 'Thailand',\n",
       " 'Cambodia',\n",
       " 'Laos',\n",
       " 'Myanmar',\n",
       " 'New Zealand',\n",
       " 'Ethiopia',\n",
       " 'Mali',\n",
       " 'Senegal',\n",
       " 'Zambia',\n",
       " 'South Korea',\n",
       " 'Taiwan',\n",
       " 'Georgia',\n",
       " 'Kazakhstan',\n",
       " 'Kyrgyzstan',\n",
       " 'Moldova',\n",
       " 'Russia',\n",
       " 'Ukraine',\n",
       " 'Burkina Faso',\n",
       " 'Cameroon',\n",
       " 'Zimbabwe',\n",
       " 'Costa Rica',\n",
       " 'Albania',\n",
       " 'Algeria',\n",
       " 'Argentina',\n",
       " 'Austria',\n",
       " 'Bahrain',\n",
       " 'Bolivia',\n",
       " 'Bosnia Herzegovina',\n",
       " 'Bulgaria',\n",
       " 'Chile',\n",
       " 'Colombia',\n",
       " 'Congo Brazzaville',\n",
       " 'Croatia',\n",
       " 'Cyprus',\n",
       " 'Dominican Republic',\n",
       " 'Ecuador',\n",
       " 'El Salvador',\n",
       " 'Estonia',\n",
       " 'Finland',\n",
       " 'Gabon',\n",
       " 'Guinea',\n",
       " 'Iraq',\n",
       " 'Ireland',\n",
       " 'Ivory Coast',\n",
       " 'Latvia',\n",
       " 'Lithuania',\n",
       " 'North Macedonia',\n",
       " 'Malaysia',\n",
       " 'Malta',\n",
       " 'Mauritius',\n",
       " 'Mongolia',\n",
       " 'Montenegro',\n",
       " 'Namibia',\n",
       " 'Nepal',\n",
       " 'Nicaragua',\n",
       " 'Norway',\n",
       " 'Paraguay',\n",
       " 'Peru',\n",
       " 'Portugal',\n",
       " 'Serbia',\n",
       " 'Slovakia',\n",
       " 'Slovenia',\n",
       " 'Switzerland',\n",
       " 'Tajikistan',\n",
       " 'Tunisia',\n",
       " 'United Arab Emirates',\n",
       " 'Uruguay',\n",
       " 'Uzbekistan',\n",
       " 'Kosovo']"
      ]
     },
     "execution_count": 5,
     "metadata": {},
     "output_type": "execute_result"
    }
   ],
   "source": [
    "[p for p in pays]"
   ]
  },
  {
   "cell_type": "code",
   "execution_count": 6,
   "metadata": {},
   "outputs": [
    {
     "data": {
      "text/plain": [
       "['United States', 'United Kingdom', 'United Arab Emirates']"
      ]
     },
     "execution_count": 6,
     "metadata": {},
     "output_type": "execute_result"
    }
   ],
   "source": [
    "[p for p in pays if \"united\" in p.lower()]"
   ]
  },
  {
   "cell_type": "code",
   "execution_count": 7,
   "metadata": {},
   "outputs": [
    {
     "data": {
      "text/plain": [
       "[13,\n",
       " 5,\n",
       " 7,\n",
       " 7,\n",
       " 12,\n",
       " 6,\n",
       " 6,\n",
       " 9,\n",
       " 10,\n",
       " 14,\n",
       " 6,\n",
       " 7,\n",
       " 11,\n",
       " 7,\n",
       " 5,\n",
       " 5,\n",
       " 6,\n",
       " 7,\n",
       " 14,\n",
       " 7,\n",
       " 6,\n",
       " 6,\n",
       " 7,\n",
       " 4,\n",
       " 9,\n",
       " 5,\n",
       " 5,\n",
       " 5,\n",
       " 9,\n",
       " 6,\n",
       " 6,\n",
       " 7,\n",
       " 5,\n",
       " 8,\n",
       " 6,\n",
       " 5,\n",
       " 6,\n",
       " 5,\n",
       " 12,\n",
       " 6,\n",
       " 9,\n",
       " 11,\n",
       " 9,\n",
       " 7,\n",
       " 8,\n",
       " 8,\n",
       " 4,\n",
       " 7,\n",
       " 11,\n",
       " 8,\n",
       " 4,\n",
       " 7,\n",
       " 6,\n",
       " 11,\n",
       " 6,\n",
       " 7,\n",
       " 10,\n",
       " 10,\n",
       " 7,\n",
       " 6,\n",
       " 7,\n",
       " 12,\n",
       " 8,\n",
       " 8,\n",
       " 10,\n",
       " 7,\n",
       " 7,\n",
       " 9,\n",
       " 7,\n",
       " 7,\n",
       " 7,\n",
       " 18,\n",
       " 8,\n",
       " 5,\n",
       " 8,\n",
       " 17,\n",
       " 7,\n",
       " 6,\n",
       " 18,\n",
       " 7,\n",
       " 11,\n",
       " 7,\n",
       " 7,\n",
       " 5,\n",
       " 6,\n",
       " 4,\n",
       " 7,\n",
       " 11,\n",
       " 6,\n",
       " 9,\n",
       " 15,\n",
       " 8,\n",
       " 5,\n",
       " 9,\n",
       " 8,\n",
       " 10,\n",
       " 7,\n",
       " 5,\n",
       " 9,\n",
       " 6,\n",
       " 8,\n",
       " 4,\n",
       " 8,\n",
       " 6,\n",
       " 8,\n",
       " 8,\n",
       " 11,\n",
       " 10,\n",
       " 7,\n",
       " 20,\n",
       " 7,\n",
       " 10,\n",
       " 6]"
      ]
     },
     "execution_count": 7,
     "metadata": {},
     "output_type": "execute_result"
    }
   ],
   "source": [
    "[len(p) for p in pays]"
   ]
  },
  {
   "cell_type": "code",
   "execution_count": 8,
   "metadata": {},
   "outputs": [
    {
     "data": {
      "text/plain": [
       "[13, 14, 20]"
      ]
     },
     "execution_count": 8,
     "metadata": {},
     "output_type": "execute_result"
    }
   ],
   "source": [
    "[len(p) for p in pays if \"united\" in p.lower()]\n"
   ]
  },
  {
   "cell_type": "markdown",
   "metadata": {},
   "source": [
    "### dict comprehension"
   ]
  },
  {
   "cell_type": "code",
   "execution_count": 9,
   "metadata": {},
   "outputs": [
    {
     "data": {
      "text/plain": [
       "{'United States': 13, 'United Kingdom': 14}"
      ]
     },
     "execution_count": 9,
     "metadata": {},
     "output_type": "execute_result"
    }
   ],
   "source": [
    "#dictionary\n",
    "{'United States':13, 'United Kingdom':14}"
   ]
  },
  {
   "cell_type": "code",
   "execution_count": 10,
   "metadata": {},
   "outputs": [
    {
     "data": {
      "text/plain": [
       "{'United States': 13,\n",
       " 'Saudi Arabia': 12,\n",
       " 'United Kingdom': 14,\n",
       " 'Czech Republic': 14,\n",
       " 'Hong Kong': 9,\n",
       " 'South Africa': 12,\n",
       " 'Sri Lanka': 9,\n",
       " 'New Zealand': 11,\n",
       " 'South Korea': 11,\n",
       " 'Burkina Faso': 12,\n",
       " 'Costa Rica': 10,\n",
       " 'Bosnia Herzegovina': 18,\n",
       " 'Congo Brazzaville': 17,\n",
       " 'Dominican Republic': 18,\n",
       " 'El Salvador': 11,\n",
       " 'Ivory Coast': 11,\n",
       " 'North Macedonia': 15,\n",
       " 'United Arab Emirates': 20}"
      ]
     },
     "execution_count": 10,
     "metadata": {},
     "output_type": "execute_result"
    }
   ],
   "source": [
    "{p:len(p) for p in pays if ' ' in p}"
   ]
  },
  {
   "cell_type": "markdown",
   "metadata": {},
   "source": [
    "### Gestion des erreurs"
   ]
  },
  {
   "cell_type": "markdown",
   "metadata": {},
   "source": [
    "SI maintenant on voulait faire un petit script qui prend en entrée le nom d'un pays et renvoie la statistique associée"
   ]
  },
  {
   "cell_type": "code",
   "execution_count": 11,
   "metadata": {},
   "outputs": [
    {
     "name": "stdout",
     "output_type": "stream",
     "text": [
      "Nom du pays :narnia\n",
      "Series([], Name: confiance_science, dtype: int64)\n"
     ]
    },
    {
     "ename": "AttributeError",
     "evalue": "'NoneType' object has no attribute 'loc'",
     "output_type": "error",
     "traceback": [
      "\u001b[0;31m---------------------------------------------------------------------------\u001b[0m",
      "\u001b[0;31mAttributeError\u001b[0m                            Traceback (most recent call last)",
      "Input \u001b[0;32mIn [11]\u001b[0m, in \u001b[0;36m<cell line: 2>\u001b[0;34m()\u001b[0m\n\u001b[1;32m      1\u001b[0m p \u001b[38;5;241m=\u001b[39m \u001b[38;5;28minput\u001b[39m(\u001b[38;5;124m\"\u001b[39m\u001b[38;5;124mNom du pays :\u001b[39m\u001b[38;5;124m\"\u001b[39m)\n\u001b[0;32m----> 2\u001b[0m \u001b[38;5;28;43mprint\u001b[39;49m\u001b[43m(\u001b[49m\u001b[43mdata\u001b[49m\u001b[43m[\u001b[49m\u001b[43mdata\u001b[49m\u001b[43m[\u001b[49m\u001b[38;5;124;43m\"\u001b[39;49m\u001b[38;5;124;43mCOUNTRYNEW\u001b[39;49m\u001b[38;5;124;43m\"\u001b[39;49m\u001b[43m]\u001b[49m\u001b[43m \u001b[49m\u001b[38;5;241;43m==\u001b[39;49m\u001b[43m \u001b[49m\u001b[43mp\u001b[49m\u001b[43m]\u001b[49m\u001b[43m[\u001b[49m\u001b[38;5;124;43m\"\u001b[39;49m\u001b[38;5;124;43mconfiance_science\u001b[39;49m\u001b[38;5;124;43m\"\u001b[39;49m\u001b[43m]\u001b[49m\u001b[38;5;241;43m.\u001b[39;49m\u001b[43mvalue_counts\u001b[49m\u001b[43m(\u001b[49m\u001b[43m)\u001b[49m\u001b[43m)\u001b[49m\u001b[38;5;241;43m.\u001b[39;49m\u001b[43mloc\u001b[49m[\u001b[38;5;124m\"\u001b[39m\u001b[38;5;124m1-A lot\u001b[39m\u001b[38;5;124m\"\u001b[39m]\n",
      "\u001b[0;31mAttributeError\u001b[0m: 'NoneType' object has no attribute 'loc'"
     ]
    }
   ],
   "source": [
    "p = input(\"Nom du pays :\")\n",
    "print(data[data[\"COUNTRYNEW\"] == p][\"confiance_science\"].value_counts()).loc[\"1-A lot\"]"
   ]
  },
  {
   "cell_type": "markdown",
   "metadata": {},
   "source": [
    "Il peut y avoir des erreurs dans un programme, comment les gérer ?\n",
    "\n",
    "- Les erreurs ont un type\n",
    "- il est possible de les \"attraper\""
   ]
  },
  {
   "cell_type": "code",
   "execution_count": 12,
   "metadata": {},
   "outputs": [
    {
     "name": "stdout",
     "output_type": "stream",
     "text": [
      "Nom du pays :\n",
      "Series([], Name: confiance_science, dtype: int64)\n",
      "Un souci dans le code: un attribut n'existe pas\n"
     ]
    }
   ],
   "source": [
    "p = input(\"Nom du pays :\")\n",
    "try:\n",
    "    print(data[data[\"COUNTRYNEW\"] == p][\"confiance_science\"].value_counts()).loc[\n",
    "        \"1-A lot\"\n",
    "    ]\n",
    "except AttributeError:\n",
    "    print(\"Un souci dans le code: un attribut n'existe pas\")"
   ]
  },
  {
   "cell_type": "markdown",
   "metadata": {},
   "source": [
    "## Zoology"
   ]
  },
  {
   "cell_type": "markdown",
   "metadata": {},
   "source": [
    "Différents types d'erreur:\n",
    "\n",
    "```python\n",
    ">>> object.existe_pas  # AttributeError\n",
    "```\n",
    "\n",
    "- Soit `object` n'est pas ce que vous pensez, \n",
    "- Faute de frappe sur `existe_pas`\n",
    "- `hasattr(object, 'existe_pas')`\n",
    "\n",
    "\n",
    "```python\n",
    ">>> import math\n",
    "... math.sqrt('bonjour') # TypeError\n",
    "```    \n",
    "\n",
    "```\n",
    "with open('./existe_pas') as f:\n",
    "    ...\n",
    "```\n",
    "\n",
    "`FileNotFoundError` - le fichier n'existe pas.\n",
    "\n",
    "\n",
    "```python\n",
    "d = {'UK':2}\n",
    "d['Uk'] # KeyError\n",
    "```\n",
    "\n",
    "```python\n",
    ">>> d.get('Uk', None)\n",
    "```\n",
    "or \n",
    "```python\n",
    "if \"Uk\" in d\n",
    "```"
   ]
  },
  {
   "cell_type": "markdown",
   "metadata": {},
   "source": [
    "### Améliorer notre code : créer nos objets\n",
    "\n",
    "Dans le cas précédent on charge un fichier SPSS, on manipule les données et les métadonnées, et souvent on ne s'intéresse qu'à un pays. Est-ce qu'on pourrait faire directement un objet qui fait tout ça ?"
   ]
  },
  {
   "cell_type": "code",
   "execution_count": 14,
   "metadata": {},
   "outputs": [],
   "source": [
    "class StatsPays:\n",
    "    def __init__(self, filename, name):\n",
    "        df, meta = pyreadstat.read_sav(filename)\n",
    "        self.data = df[df[\"COUNTRYNEW\"] == name]\n",
    "        self.meta = meta"
   ]
  },
  {
   "cell_type": "markdown",
   "metadata": {},
   "source": [
    "Par _convention_, les class sont en `CamelCase`. On parse de la `class`, ou du `type` d'un object.\n",
    "\n",
    "les `methodes`, sont des fonctions dont la définition est indentée de 4 espace, et qui prennent en premier argument l'`instance` courante (l'objet spécifique en cours d'existence). Qui est appelée self.\n",
    "\n",
    "Les méthodes qui commencent et finissent par `__`, sont spéciales. En particulier `__init__` qui est appelée quand vous créez un object (dit autrement : quand une instance de la classe est créé, elle appelle d'abord `__init__`).\n"
   ]
  },
  {
   "cell_type": "markdown",
   "metadata": {},
   "source": [
    "On peut rajouter des méthodes à notre objet, par ex nos deux fonctions"
   ]
  },
  {
   "cell_type": "code",
   "execution_count": 38,
   "metadata": {},
   "outputs": [],
   "source": [
    "\"\"\"\n",
    "This will become a module.\n",
    "\n",
    "For now it is in a notebook, but we'll put it in \n",
    "a .py file, and import it.\n",
    "\n",
    "\"\"\"\n",
    "\n",
    "import pyreadstat\n",
    "\n",
    "class StatsPays:\n",
    "    def __init__(self, filename, name):\n",
    "        \"\"\"\n",
    "        Parameters\n",
    "        ----------\n",
    "        filename : str\n",
    "            the file we load data from\n",
    "        name: str\n",
    "            the country of interest.\n",
    "        \n",
    "        \"\"\"\n",
    "        df, meta = pyreadstat.read_sav(filename)\n",
    "        self.data = df[df[\"COUNTRYNEW\"] == name]\n",
    "        self.meta = meta\n",
    "\n",
    "    def question(self, v):\n",
    "        return self.meta.column_names_to_labels[v]\n",
    "\n",
    "    def modalites(self, v):\n",
    "        return self.meta.value_labels[meta.variable_to_label[v]]"
   ]
  },
  {
   "cell_type": "code",
   "execution_count": 14,
   "metadata": {},
   "outputs": [],
   "source": [
    "suisse = StatsPays('wgm-full-wave2-public-file.sav', \"Switzerland\")"
   ]
  },
  {
   "cell_type": "code",
   "execution_count": 15,
   "metadata": {},
   "outputs": [
    {
     "data": {
      "text/plain": [
       "__main__.StatsPays"
      ]
     },
     "execution_count": 15,
     "metadata": {},
     "output_type": "execute_result"
    }
   ],
   "source": [
    "type(suisse)"
   ]
  },
  {
   "cell_type": "code",
   "execution_count": 16,
   "metadata": {},
   "outputs": [
    {
     "data": {
      "text/plain": [
       "True"
      ]
     },
     "execution_count": 16,
     "metadata": {},
     "output_type": "execute_result"
    }
   ],
   "source": [
    "isinstance(suisse, StatsPays)"
   ]
  },
  {
   "cell_type": "code",
   "execution_count": 17,
   "metadata": {},
   "outputs": [
    {
     "data": {
      "text/plain": [
       "False"
      ]
     },
     "execution_count": 17,
     "metadata": {},
     "output_type": "execute_result"
    }
   ],
   "source": [
    "isinstance(suisse, int)"
   ]
  },
  {
   "cell_type": "code",
   "execution_count": 18,
   "metadata": {},
   "outputs": [
    {
     "data": {
      "text/plain": [
       "'How Much You Understand the Meaning of Science and Scientists'"
      ]
     },
     "execution_count": 18,
     "metadata": {},
     "output_type": "execute_result"
    }
   ],
   "source": [
    "suisse.question(\"W2\")"
   ]
  },
  {
   "cell_type": "markdown",
   "metadata": {},
   "source": [
    "On peut intégrer tous les recodages dans notre objet"
   ]
  },
  {
   "cell_type": "markdown",
   "metadata": {},
   "source": [
    "### Création d'un module"
   ]
  },
  {
   "cell_type": "markdown",
   "metadata": {},
   "source": [
    "tout le code qu'on a là, on le réutilise de fichier en fichier\n",
    "\n",
    "On peut le mettre dans un fichier .py et le charger, qui rend disponible notre objet"
   ]
  },
  {
   "cell_type": "markdown",
   "metadata": {},
   "source": [
    "Dans le dossier courant, créer un ficher ``mon_module.py``."
   ]
  },
  {
   "cell_type": "code",
   "execution_count": 40,
   "metadata": {},
   "outputs": [],
   "source": [
    "from mon_module import StatsPays"
   ]
  },
  {
   "cell_type": "code",
   "execution_count": 41,
   "metadata": {},
   "outputs": [
    {
     "data": {
      "text/plain": [
       "mon_module.StatsPays"
      ]
     },
     "execution_count": 41,
     "metadata": {},
     "output_type": "execute_result"
    }
   ],
   "source": [
    "StatsPays"
   ]
  },
  {
   "cell_type": "markdown",
   "metadata": {},
   "source": [
    "changement de `mon_module` necessite un redémarage du kernel."
   ]
  },
  {
   "cell_type": "code",
   "execution_count": 45,
   "metadata": {},
   "outputs": [
    {
     "name": "stdout",
     "output_type": "stream",
     "text": [
      "\u001b[01;34m/Users/bussonniermatthias/dev/pyshs-bib/\u001b[00m\r\n",
      "├── Exemple\\ PySHS.ipynb\r\n",
      "├── LICENSE\r\n",
      "├── README.md\r\n",
      "├── pyproject.toml\r\n",
      "└── pyshs.py\r\n",
      "\r\n",
      "0 directories, 5 files\r\n"
     ]
    }
   ],
   "source": [
    "!tree ~/dev/pyshs-bib/"
   ]
  },
  {
   "cell_type": "markdown",
   "metadata": {},
   "source": [
    "### Syntaxe: les décorateurs\n",
    "\n",
    "Les décorateur sont des utilitaires qui permettent de \"modifier\" des fonctions. Leur syntaxe est:\n",
    "\n",
    "(en fait, la fonction est appelée dans une autre fonction)"
   ]
  },
  {
   "cell_type": "code",
   "execution_count": 5,
   "metadata": {},
   "outputs": [
    {
     "name": "stdout",
     "output_type": "stream",
     "text": [
      "compute called on 2022-05-08T15:07:11.946755\n",
      "compute done on 2022-05-08T15:07:12.631600 after 0:00:00.684845\n"
     ]
    }
   ],
   "source": [
    "from dec import time_me\n",
    "\n",
    "@time_me\n",
    "def compute(q):\n",
    "    suisse = StatsPays('wgm-full-wave2-public-file.sav',\"Switzerland\")\n",
    "    return suisse.question(q)\n",
    "\n",
    "compute('W2')\n"
   ]
  },
  {
   "cell_type": "markdown",
   "metadata": {},
   "source": [
    "## Les formules magiques"
   ]
  },
  {
   "cell_type": "markdown",
   "metadata": {},
   "source": [
    "Un mot sur les magics : https://ipython.readthedocs.io/en/stable/interactive/magics.html"
   ]
  },
  {
   "cell_type": "markdown",
   "metadata": {},
   "source": [
    "Cas de %time et %timeit pour le temps d'exécution"
   ]
  },
  {
   "cell_type": "markdown",
   "metadata": {},
   "source": [
    "### Syntax, \\*args, \\*\\*kwargs"
   ]
  },
  {
   "cell_type": "markdown",
   "metadata": {},
   "source": [
    "Question: comment implemeter max ?\n",
    "\n",
    "```python\n",
    ">>> max(66, 48, 86, 95, 49)\n",
    "95\n",
    "\n",
    ">>> max(90, 40, 93, 88, 90,  9, 72, 35,  4, 87)\n",
    "90\n",
    "```\n",
    "\n",
    "\n",
    "Vous ne savez pas combien de paramètres `max()` prends:\n",
    "\n",
    "```python\n",
    "def max(a, b, c, d, e, f, g, h, i, j, k, l, m ...):\n",
    "    ...\n",
    "\n",
    "```\n",
    "\n",
    "solution 1:\n",
    " - max prends un liste:\n",
    " \n",
    "```python\n",
    "def max(ma_liste):\n",
    "    ...\n",
    "    \n",
    "max([66, 48, 86, 95, 49])\n",
    "```\n",
    "\n",
    "\n"
   ]
  },
  {
   "cell_type": "code",
   "execution_count": 34,
   "metadata": {},
   "outputs": [],
   "source": [
    "def my_max(*args):\n",
    "    print(args, isinstance(args, tuple))\n"
   ]
  },
  {
   "cell_type": "code",
   "execution_count": 35,
   "metadata": {},
   "outputs": [
    {
     "name": "stdout",
     "output_type": "stream",
     "text": [
      "(1, 2, 3, 4, 5) True\n"
     ]
    }
   ],
   "source": [
    "my_max(1,2,3,4,5)"
   ]
  },
  {
   "cell_type": "code",
   "execution_count": 37,
   "metadata": {},
   "outputs": [
    {
     "name": "stdout",
     "output_type": "stream",
     "text": [
      "1\n",
      "[2, 3, 4]\n",
      "5\n",
      "6\n"
     ]
    }
   ],
   "source": [
    "first, *middle,penultimate, last = [1,2,3,4,5,6]\n",
    "print(first)\n",
    "print(middle)\n",
    "print(penultimate)\n",
    "print(last)"
   ]
  }
 ],
 "metadata": {
  "kernelspec": {
   "display_name": "Python 3 (ipykernel)",
   "language": "python",
   "name": "python3"
  },
  "language_info": {
   "codemirror_mode": {
    "name": "ipython",
    "version": 3
   },
   "file_extension": ".py",
   "mimetype": "text/x-python",
   "name": "python",
   "nbconvert_exporter": "python",
   "pygments_lexer": "ipython3",
   "version": "3.10.4"
  }
 },
 "nbformat": 4,
 "nbformat_minor": 4
}
