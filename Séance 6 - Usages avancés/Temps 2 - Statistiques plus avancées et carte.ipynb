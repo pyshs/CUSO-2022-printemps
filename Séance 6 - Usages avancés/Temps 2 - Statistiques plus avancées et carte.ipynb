{
 "cells": [
  {
   "cell_type": "markdown",
   "metadata": {},
   "source": [
    "# Traitement avancées : modèles & carte\n",
    "\n",
    "\n"
   ]
  },
  {
   "cell_type": "markdown",
   "metadata": {},
   "source": [
    "## 1. Chargement et recodage\n",
    "\n",
    "Ces étapes ont déjà été vues, on les réapplique"
   ]
  },
  {
   "cell_type": "code",
   "execution_count": 1,
   "metadata": {},
   "outputs": [],
   "source": [
    "import pandas as pd\n",
    "import pyshs\n",
    "import matplotlib.pyplot as plt\n",
    "import pyreadstat\n",
    "\n",
    "# Chargement données\n",
    "data, meta = pyreadstat.read_sav('./wgm-full-wave2-public-file.sav')\n",
    "\n",
    "# Fonctions utilitaires\n",
    "def question(v,meta):\n",
    "    return meta.column_names_to_labels[v]\n",
    "def modalites(v,meta):\n",
    "    return meta.value_labels[meta.variable_to_label[v]]\n",
    "\n",
    "\n",
    "data[\"poids\"] = data[\"WGT\"]\n",
    "data[\"pays\"] = data[\"COUNTRYNEW\"]\n",
    "data[\"age\"] = data[\"Age\"].fillna(\"NA\")\n",
    "data[\"age_reco\"] = pd.cut(data['Age'],[0,35,45,55,65,100],\n",
    "                labels = [\"1-[15-35[\",\"2-[35-45[\",\"3-[45-55[\",\"4-[55-65[\",\"5-[65-75]\"])\n",
    "data[\"genre\"] = data[\"Gender\"].replace({1.0: '1-Male', 2.0: '2-Female'})\n",
    "data[\"education\"] = data[\"Education\"].replace(modalites('Education',meta)).replace({99:None})\n",
    "data[\"revenus\"] = data[\"Household_Income\"].replace({1.0: 'Q1', 2.0: 'Q2',3:\"Q3\",4:\"Q4\",5:\"Q5\"})\n",
    "data[\"region\"] = data[\"Global11Regions\"].replace(modalites(\"Global11Regions\",meta))\n",
    "data[\"revenus_avis\"] = data[\"Subjective_Income\"].replace(modalites(\"Subjective_Income\",meta))\n",
    "reco = {1:\"1-A lot\", 2:\"2-Some\", 3:\"3-Not much/at all\",4:\"3-Not much/at all\",99:\"4-NA\"}\n",
    "data[\"connaissance_science\"] = data['W1'].replace(reco)\n",
    "data[\"comprendre_science\"] = data['W2'].replace(reco)\n",
    "data[\"education_science\"] = data[\"W3\"].replace(modalites('W3',meta))\n",
    "data[\"confiance_hopital\"] = data[\"W4\"].replace(reco)\n",
    "data[\"confiance_science\"] = data[\"W6\"].replace(reco)\n",
    "data[\"confiance_gouvernement\"] = data[\"W5B\"].replace(reco)\n",
    "data[\"confiance_scientifiques\"] = data[\"W5C\"].replace(reco)\n",
    "data[\"confiance_journalistes\"] = data[\"W5D\"].replace(reco)\n",
    "data[\"confiance_medecins\"] = data[\"W5E\"].replace(reco)\n",
    "data[\"confiance_rebouteux\"] = data[\"W5G\"].replace(reco)\n",
    "data[\"recherche_cancer\"] = data['MH4A'].replace(modalites(\"MH4A\",meta)).fillna(\"NA\")\n",
    "\n",
    "reco = {1:\"1-A lot\", 2:\"2-Some\", 3:\"3-Not much/at all\",4:\"3-DK\",8:\"3-DK\",9:\"3-DK\"}\n",
    "data[\"covid_impact\"] = data[\"WP21757\"].replace(reco)\n",
    "data[\"gouvernants_valorisent_scientifiques\"] = data[\"W7C\"].replace(reco)\n",
    "data[\"socialmedia_month\"] = data[\"W27\"].replace(modalites(\"W27\",meta))\n",
    "reco = {1.0: '1-Almost every hour',2.0: '1-Almost every hour',3.0: '2-At least once a day',\n",
    " 4.0: '2-At least once a day', 5.0: '3-A few days a week', 6.0: '4-Less frequently', 99.0: '5-DK/Refused'}\n",
    "data[\"socialmedia_freq\"] = data[\"W28\"].replace(reco)\n",
    "reco = {1:\"1-Très souvent ou tout le temps\",2:\"1-Très souvent ou tout le temps\",3:\"2-Parfois\",4:\"3-Jamais\",99:\"NA\"}\n",
    "data[\"socialmedia_healthinfo\"] = data[\"W29\"].replace(reco)\n",
    "data[\"science_religion\"] = data[\"W30\"].replace(modalites(\"W30\",meta))\n",
    "data[\"vaccin\"] = data[\"WP21768\"].replace(modalites(\"WP21768\",meta))\n",
    "data[\"scientists_benefits_people\"] = data[\"W8\"].replace({1:\"1-Yes\",2:\"2-Some\",3:\"3-No\",99:\"4-NA\"})\n",
    "data[\"scientists_benefits_you\"] = data[\"W9\"].replace({1:\"1-Yes\",2:\"2-Some\",3:\"3-No\",99:\"4-NA\"})"
   ]
  },
  {
   "cell_type": "markdown",
   "metadata": {},
   "source": [
    "## 2. Analyse statistique avancée\n",
    "\n",
    "Python a différentes bibliothèques pour les modèles, avec des variations de philosophie d'usage\n",
    "\n",
    "- Statsmodels\n",
    "- Sklearn\n",
    "- ..."
   ]
  },
  {
   "cell_type": "markdown",
   "metadata": {},
   "source": [
    "### Régression logistique\n",
    "\n",
    "Une possibilité: utiliser statsmodels https://www.statsmodels.org/stable/discretemod.html\n",
    "\n",
    "Par exemple les facteurs de défiance (partielle) dans l'hopital"
   ]
  },
  {
   "cell_type": "code",
   "execution_count": 5,
   "metadata": {},
   "outputs": [
    {
     "data": {
      "text/html": [
       "<div>\n",
       "<style scoped>\n",
       "    .dataframe tbody tr th:only-of-type {\n",
       "        vertical-align: middle;\n",
       "    }\n",
       "\n",
       "    .dataframe tbody tr th {\n",
       "        vertical-align: top;\n",
       "    }\n",
       "\n",
       "    .dataframe thead th {\n",
       "        text-align: right;\n",
       "    }\n",
       "</style>\n",
       "<table border=\"1\" class=\"dataframe\">\n",
       "  <thead>\n",
       "    <tr style=\"text-align: right;\">\n",
       "      <th></th>\n",
       "      <th>Effectif redressé</th>\n",
       "      <th>Pourcentage (%)</th>\n",
       "    </tr>\n",
       "  </thead>\n",
       "  <tbody>\n",
       "    <tr>\n",
       "      <th>1-A lot</th>\n",
       "      <td>38728.1</td>\n",
       "      <td>32.8</td>\n",
       "    </tr>\n",
       "    <tr>\n",
       "      <th>2-Some</th>\n",
       "      <td>45554.6</td>\n",
       "      <td>38.6</td>\n",
       "    </tr>\n",
       "    <tr>\n",
       "      <th>3-Not much/at all</th>\n",
       "      <td>28760.7</td>\n",
       "      <td>24.4</td>\n",
       "    </tr>\n",
       "    <tr>\n",
       "      <th>4-NA</th>\n",
       "      <td>5039.7</td>\n",
       "      <td>4.3</td>\n",
       "    </tr>\n",
       "    <tr>\n",
       "      <th>Total</th>\n",
       "      <td>118083.1</td>\n",
       "      <td>100.1</td>\n",
       "    </tr>\n",
       "  </tbody>\n",
       "</table>\n",
       "</div>"
      ],
      "text/plain": [
       "                   Effectif redressé  Pourcentage (%)\n",
       "1-A lot                      38728.1             32.8\n",
       "2-Some                       45554.6             38.6\n",
       "3-Not much/at all            28760.7             24.4\n",
       "4-NA                          5039.7              4.3\n",
       "Total                       118083.1            100.1"
      ]
     },
     "execution_count": 5,
     "metadata": {},
     "output_type": "execute_result"
    }
   ],
   "source": [
    "pyshs.tri_a_plat(data,\"confiance_hopital\",\"poids\")"
   ]
  },
  {
   "cell_type": "markdown",
   "metadata": {},
   "source": [
    "Créer une variable dichotomisée dépendante 1/0"
   ]
  },
  {
   "cell_type": "code",
   "execution_count": 6,
   "metadata": {},
   "outputs": [],
   "source": [
    "data[\"confiance_hopital_faible\"] = data[\"confiance_hopital\"].apply(lambda x : 0 if x==\"1-A lot\" else 1)"
   ]
  },
  {
   "cell_type": "markdown",
   "metadata": {},
   "source": [
    "\"à la main\" avec le module smf (il y a d'autres façons de faire)"
   ]
  },
  {
   "cell_type": "code",
   "execution_count": 7,
   "metadata": {},
   "outputs": [
    {
     "name": "stdout",
     "output_type": "stream",
     "text": [
      "Optimization terminated successfully.\n",
      "         Current function value: 0.627664\n",
      "         Iterations 4\n"
     ]
    },
    {
     "data": {
      "text/html": [
       "<table class=\"simpletable\">\n",
       "<caption>Logit Regression Results</caption>\n",
       "<tr>\n",
       "  <th>Dep. Variable:</th>   <td>confiance_hopital_faible</td> <th>  No. Observations:  </th>  <td>119088</td>  \n",
       "</tr>\n",
       "<tr>\n",
       "  <th>Model:</th>                     <td>Logit</td>          <th>  Df Residuals:      </th>  <td>119086</td>  \n",
       "</tr>\n",
       "<tr>\n",
       "  <th>Method:</th>                     <td>MLE</td>           <th>  Df Model:          </th>  <td>     1</td>  \n",
       "</tr>\n",
       "<tr>\n",
       "  <th>Date:</th>                <td>Sat, 07 May 2022</td>     <th>  Pseudo R-squ.:     </th> <td>6.929e-05</td>\n",
       "</tr>\n",
       "<tr>\n",
       "  <th>Time:</th>                    <td>20:35:47</td>         <th>  Log-Likelihood:    </th> <td> -74747.</td> \n",
       "</tr>\n",
       "<tr>\n",
       "  <th>converged:</th>                 <td>True</td>           <th>  LL-Null:           </th> <td> -74752.</td> \n",
       "</tr>\n",
       "<tr>\n",
       "  <th>Covariance Type:</th>         <td>nonrobust</td>        <th>  LLR p-value:       </th> <td>0.001289</td> \n",
       "</tr>\n",
       "</table>\n",
       "<table class=\"simpletable\">\n",
       "<tr>\n",
       "          <td></td>             <th>coef</th>     <th>std err</th>      <th>z</th>      <th>P>|z|</th>  <th>[0.025</th>    <th>0.975]</th>  \n",
       "</tr>\n",
       "<tr>\n",
       "  <th>Intercept</th>         <td>    0.7291</td> <td>    0.009</td> <td>   84.180</td> <td> 0.000</td> <td>    0.712</td> <td>    0.746</td>\n",
       "</tr>\n",
       "<tr>\n",
       "  <th>genre[T.2-Female]</th> <td>    0.0400</td> <td>    0.012</td> <td>    3.218</td> <td> 0.001</td> <td>    0.016</td> <td>    0.064</td>\n",
       "</tr>\n",
       "</table>"
      ],
      "text/plain": [
       "<class 'statsmodels.iolib.summary.Summary'>\n",
       "\"\"\"\n",
       "                              Logit Regression Results                              \n",
       "====================================================================================\n",
       "Dep. Variable:     confiance_hopital_faible   No. Observations:               119088\n",
       "Model:                                Logit   Df Residuals:                   119086\n",
       "Method:                                 MLE   Df Model:                            1\n",
       "Date:                      Sat, 07 May 2022   Pseudo R-squ.:               6.929e-05\n",
       "Time:                              20:35:47   Log-Likelihood:                -74747.\n",
       "converged:                             True   LL-Null:                       -74752.\n",
       "Covariance Type:                  nonrobust   LLR p-value:                  0.001289\n",
       "=====================================================================================\n",
       "                        coef    std err          z      P>|z|      [0.025      0.975]\n",
       "-------------------------------------------------------------------------------------\n",
       "Intercept             0.7291      0.009     84.180      0.000       0.712       0.746\n",
       "genre[T.2-Female]     0.0400      0.012      3.218      0.001       0.016       0.064\n",
       "=====================================================================================\n",
       "\"\"\""
      ]
     },
     "execution_count": 7,
     "metadata": {},
     "output_type": "execute_result"
    }
   ],
   "source": [
    "import statsmodels.formula.api as smf\n",
    "\n",
    "log_reg = smf.logit(\"confiance_hopital_faible ~ genre \", data=data)\n",
    "log_reg = log_reg.fit()\n",
    "log_reg.summary()"
   ]
  },
  {
   "cell_type": "markdown",
   "metadata": {},
   "source": [
    "En passant par une bibliothèque dédiée faire pour \"simplifier\" (wrapper)"
   ]
  },
  {
   "cell_type": "code",
   "execution_count": 8,
   "metadata": {},
   "outputs": [
    {
     "data": {
      "text/html": [
       "<div>\n",
       "<style scoped>\n",
       "    .dataframe tbody tr th:only-of-type {\n",
       "        vertical-align: middle;\n",
       "    }\n",
       "\n",
       "    .dataframe tbody tr th {\n",
       "        vertical-align: top;\n",
       "    }\n",
       "\n",
       "    .dataframe thead th {\n",
       "        text-align: right;\n",
       "    }\n",
       "</style>\n",
       "<table border=\"1\" class=\"dataframe\">\n",
       "  <thead>\n",
       "    <tr style=\"text-align: right;\">\n",
       "      <th></th>\n",
       "      <th></th>\n",
       "      <th>Odds Ratio</th>\n",
       "      <th>p</th>\n",
       "      <th>IC 95%</th>\n",
       "    </tr>\n",
       "    <tr>\n",
       "      <th>Variable</th>\n",
       "      <th>Modalité</th>\n",
       "      <th></th>\n",
       "      <th></th>\n",
       "      <th></th>\n",
       "    </tr>\n",
       "  </thead>\n",
       "  <tbody>\n",
       "    <tr>\n",
       "      <th>.Intercept</th>\n",
       "      <th></th>\n",
       "      <td>2.07</td>\n",
       "      <td>0.0***</td>\n",
       "      <td>2.07 [2.04-2.11]</td>\n",
       "    </tr>\n",
       "    <tr>\n",
       "      <th rowspan=\"2\" valign=\"top\">genre</th>\n",
       "      <th>1-Male</th>\n",
       "      <td>ref</td>\n",
       "      <td></td>\n",
       "      <td></td>\n",
       "    </tr>\n",
       "    <tr>\n",
       "      <th>2-Female</th>\n",
       "      <td>1.04</td>\n",
       "      <td>0.001**</td>\n",
       "      <td>1.04 [1.02-1.07]</td>\n",
       "    </tr>\n",
       "  </tbody>\n",
       "</table>\n",
       "</div>"
      ],
      "text/plain": [
       "                    Odds Ratio        p            IC 95%\n",
       "Variable   Modalité                                      \n",
       ".Intercept                2.07   0.0***  2.07 [2.04-2.11]\n",
       "genre      1-Male          ref                           \n",
       "           2-Female       1.04  0.001**  1.04 [1.02-1.07]"
      ]
     },
     "execution_count": 8,
     "metadata": {},
     "output_type": "execute_result"
    }
   ],
   "source": [
    "pyshs.regression_logistique(data,\"confiance_hopital_faible\",[\"genre\"])"
   ]
  },
  {
   "cell_type": "markdown",
   "metadata": {},
   "source": [
    "Tout l'enjeu est la mise en forme"
   ]
  },
  {
   "cell_type": "code",
   "execution_count": 9,
   "metadata": {},
   "outputs": [],
   "source": [
    "var_ind = {\"genre\":\"Genre\",\"age_reco\":\"Age\",\"education\":\"Education\",\"revenus\":\"Revenus\",\n",
    "           \"covid_impact\":\"Impacté par le COVID\",\n",
    "            \"scientists_benefits_people\":\"Science bénéfique aux gens\"}"
   ]
  },
  {
   "cell_type": "code",
   "execution_count": 10,
   "metadata": {},
   "outputs": [
    {
     "data": {
      "text/html": [
       "<div>\n",
       "<style scoped>\n",
       "    .dataframe tbody tr th:only-of-type {\n",
       "        vertical-align: middle;\n",
       "    }\n",
       "\n",
       "    .dataframe tbody tr th {\n",
       "        vertical-align: top;\n",
       "    }\n",
       "\n",
       "    .dataframe thead th {\n",
       "        text-align: right;\n",
       "    }\n",
       "</style>\n",
       "<table border=\"1\" class=\"dataframe\">\n",
       "  <thead>\n",
       "    <tr style=\"text-align: right;\">\n",
       "      <th></th>\n",
       "      <th></th>\n",
       "      <th>Odds Ratio</th>\n",
       "      <th>p</th>\n",
       "      <th>IC 95%</th>\n",
       "    </tr>\n",
       "    <tr>\n",
       "      <th>Variable</th>\n",
       "      <th>Modalité</th>\n",
       "      <th></th>\n",
       "      <th></th>\n",
       "      <th></th>\n",
       "    </tr>\n",
       "  </thead>\n",
       "  <tbody>\n",
       "    <tr>\n",
       "      <th>.Intercept</th>\n",
       "      <th></th>\n",
       "      <td>1.22</td>\n",
       "      <td>0.0***</td>\n",
       "      <td>1.22 [1.16-1.28]</td>\n",
       "    </tr>\n",
       "    <tr>\n",
       "      <th rowspan=\"5\" valign=\"top\">Age</th>\n",
       "      <th>1-[15-35[</th>\n",
       "      <td>ref</td>\n",
       "      <td></td>\n",
       "      <td></td>\n",
       "    </tr>\n",
       "    <tr>\n",
       "      <th>2-[35-45[</th>\n",
       "      <td>0.89</td>\n",
       "      <td>0.0***</td>\n",
       "      <td>0.89 [0.86-0.92]</td>\n",
       "    </tr>\n",
       "    <tr>\n",
       "      <th>3-[45-55[</th>\n",
       "      <td>0.8</td>\n",
       "      <td>0.0***</td>\n",
       "      <td>0.80 [0.77-0.83]</td>\n",
       "    </tr>\n",
       "    <tr>\n",
       "      <th>4-[55-65[</th>\n",
       "      <td>0.72</td>\n",
       "      <td>0.0***</td>\n",
       "      <td>0.72 [0.69-0.75]</td>\n",
       "    </tr>\n",
       "    <tr>\n",
       "      <th>5-[65-75]</th>\n",
       "      <td>0.55</td>\n",
       "      <td>0.0***</td>\n",
       "      <td>0.55 [0.53-0.58]</td>\n",
       "    </tr>\n",
       "    <tr>\n",
       "      <th rowspan=\"3\" valign=\"top\">Education</th>\n",
       "      <th>Elementary or less (8 years or less)</th>\n",
       "      <td>ref</td>\n",
       "      <td></td>\n",
       "      <td></td>\n",
       "    </tr>\n",
       "    <tr>\n",
       "      <th>Secondary (8-15 years)</th>\n",
       "      <td>1.1</td>\n",
       "      <td>0.0***</td>\n",
       "      <td>1.10 [1.07-1.14]</td>\n",
       "    </tr>\n",
       "    <tr>\n",
       "      <th>Tertiary (16+ years)</th>\n",
       "      <td>0.93</td>\n",
       "      <td>0.0***</td>\n",
       "      <td>0.93 [0.89-0.97]</td>\n",
       "    </tr>\n",
       "    <tr>\n",
       "      <th rowspan=\"2\" valign=\"top\">Genre</th>\n",
       "      <th>1-Male</th>\n",
       "      <td>ref</td>\n",
       "      <td></td>\n",
       "      <td></td>\n",
       "    </tr>\n",
       "    <tr>\n",
       "      <th>2-Female</th>\n",
       "      <td>1.03</td>\n",
       "      <td>0.015*</td>\n",
       "      <td>1.03 [1.01-1.06]</td>\n",
       "    </tr>\n",
       "    <tr>\n",
       "      <th rowspan=\"4\" valign=\"top\">Impacté par le COVID</th>\n",
       "      <th>1-A lot</th>\n",
       "      <td>ref</td>\n",
       "      <td></td>\n",
       "      <td></td>\n",
       "    </tr>\n",
       "    <tr>\n",
       "      <th>2-Some</th>\n",
       "      <td>1.05</td>\n",
       "      <td>0.0***</td>\n",
       "      <td>1.05 [1.02-1.08]</td>\n",
       "    </tr>\n",
       "    <tr>\n",
       "      <th>3-DK</th>\n",
       "      <td>0.95</td>\n",
       "      <td>0.516</td>\n",
       "      <td>0.95 [0.82-1.10]</td>\n",
       "    </tr>\n",
       "    <tr>\n",
       "      <th>3-Not much/at all</th>\n",
       "      <td>0.98</td>\n",
       "      <td>0.312</td>\n",
       "      <td>0.98 [0.94-1.02]</td>\n",
       "    </tr>\n",
       "    <tr>\n",
       "      <th rowspan=\"5\" valign=\"top\">Revenus</th>\n",
       "      <th>Q1</th>\n",
       "      <td>ref</td>\n",
       "      <td></td>\n",
       "      <td></td>\n",
       "    </tr>\n",
       "    <tr>\n",
       "      <th>Q2</th>\n",
       "      <td>1.03</td>\n",
       "      <td>0.11</td>\n",
       "      <td>1.03 [0.99-1.08]</td>\n",
       "    </tr>\n",
       "    <tr>\n",
       "      <th>Q3</th>\n",
       "      <td>1.01</td>\n",
       "      <td>0.507</td>\n",
       "      <td>1.01 [0.97-1.06]</td>\n",
       "    </tr>\n",
       "    <tr>\n",
       "      <th>Q4</th>\n",
       "      <td>1.03</td>\n",
       "      <td>0.156</td>\n",
       "      <td>1.03 [0.99-1.07]</td>\n",
       "    </tr>\n",
       "    <tr>\n",
       "      <th>Q5</th>\n",
       "      <td>1.0</td>\n",
       "      <td>0.958</td>\n",
       "      <td>1.00 [0.96-1.04]</td>\n",
       "    </tr>\n",
       "    <tr>\n",
       "      <th rowspan=\"4\" valign=\"top\">Science bénéfique aux gens</th>\n",
       "      <th>1-Yes</th>\n",
       "      <td>ref</td>\n",
       "      <td></td>\n",
       "      <td></td>\n",
       "    </tr>\n",
       "    <tr>\n",
       "      <th>2-Some</th>\n",
       "      <td>2.1</td>\n",
       "      <td>0.0***</td>\n",
       "      <td>2.10 [2.04-2.16]</td>\n",
       "    </tr>\n",
       "    <tr>\n",
       "      <th>3-No</th>\n",
       "      <td>3.83</td>\n",
       "      <td>0.0***</td>\n",
       "      <td>3.83 [3.69-3.98]</td>\n",
       "    </tr>\n",
       "    <tr>\n",
       "      <th>4-NA</th>\n",
       "      <td>2.34</td>\n",
       "      <td>0.0***</td>\n",
       "      <td>2.34 [2.22-2.48]</td>\n",
       "    </tr>\n",
       "  </tbody>\n",
       "</table>\n",
       "</div>"
      ],
      "text/plain": [
       "                                                                Odds Ratio  \\\n",
       "Variable                   Modalité                                          \n",
       ".Intercept                                                            1.22   \n",
       "Age                        1-[15-35[                                   ref   \n",
       "                           2-[35-45[                                  0.89   \n",
       "                           3-[45-55[                                   0.8   \n",
       "                           4-[55-65[                                  0.72   \n",
       "                           5-[65-75]                                  0.55   \n",
       "Education                  Elementary or less (8 years or less)        ref   \n",
       "                           Secondary (8-15 years)                      1.1   \n",
       "                           Tertiary (16+ years)                       0.93   \n",
       "Genre                      1-Male                                      ref   \n",
       "                           2-Female                                   1.03   \n",
       "Impacté par le COVID       1-A lot                                     ref   \n",
       "                           2-Some                                     1.05   \n",
       "                           3-DK                                       0.95   \n",
       "                           3-Not much/at all                          0.98   \n",
       "Revenus                    Q1                                          ref   \n",
       "                           Q2                                         1.03   \n",
       "                           Q3                                         1.01   \n",
       "                           Q4                                         1.03   \n",
       "                           Q5                                          1.0   \n",
       "Science bénéfique aux gens 1-Yes                                       ref   \n",
       "                           2-Some                                      2.1   \n",
       "                           3-No                                       3.83   \n",
       "                           4-NA                                       2.34   \n",
       "\n",
       "                                                                      p  \\\n",
       "Variable                   Modalité                                       \n",
       ".Intercept                                                       0.0***   \n",
       "Age                        1-[15-35[                                      \n",
       "                           2-[35-45[                             0.0***   \n",
       "                           3-[45-55[                             0.0***   \n",
       "                           4-[55-65[                             0.0***   \n",
       "                           5-[65-75]                             0.0***   \n",
       "Education                  Elementary or less (8 years or less)           \n",
       "                           Secondary (8-15 years)                0.0***   \n",
       "                           Tertiary (16+ years)                  0.0***   \n",
       "Genre                      1-Male                                         \n",
       "                           2-Female                              0.015*   \n",
       "Impacté par le COVID       1-A lot                                        \n",
       "                           2-Some                                0.0***   \n",
       "                           3-DK                                   0.516   \n",
       "                           3-Not much/at all                      0.312   \n",
       "Revenus                    Q1                                             \n",
       "                           Q2                                      0.11   \n",
       "                           Q3                                     0.507   \n",
       "                           Q4                                     0.156   \n",
       "                           Q5                                     0.958   \n",
       "Science bénéfique aux gens 1-Yes                                          \n",
       "                           2-Some                                0.0***   \n",
       "                           3-No                                  0.0***   \n",
       "                           4-NA                                  0.0***   \n",
       "\n",
       "                                                                           IC 95%  \n",
       "Variable                   Modalité                                                \n",
       ".Intercept                                                       1.22 [1.16-1.28]  \n",
       "Age                        1-[15-35[                                               \n",
       "                           2-[35-45[                             0.89 [0.86-0.92]  \n",
       "                           3-[45-55[                             0.80 [0.77-0.83]  \n",
       "                           4-[55-65[                             0.72 [0.69-0.75]  \n",
       "                           5-[65-75]                             0.55 [0.53-0.58]  \n",
       "Education                  Elementary or less (8 years or less)                    \n",
       "                           Secondary (8-15 years)                1.10 [1.07-1.14]  \n",
       "                           Tertiary (16+ years)                  0.93 [0.89-0.97]  \n",
       "Genre                      1-Male                                                  \n",
       "                           2-Female                              1.03 [1.01-1.06]  \n",
       "Impacté par le COVID       1-A lot                                                 \n",
       "                           2-Some                                1.05 [1.02-1.08]  \n",
       "                           3-DK                                  0.95 [0.82-1.10]  \n",
       "                           3-Not much/at all                     0.98 [0.94-1.02]  \n",
       "Revenus                    Q1                                                      \n",
       "                           Q2                                    1.03 [0.99-1.08]  \n",
       "                           Q3                                    1.01 [0.97-1.06]  \n",
       "                           Q4                                    1.03 [0.99-1.07]  \n",
       "                           Q5                                    1.00 [0.96-1.04]  \n",
       "Science bénéfique aux gens 1-Yes                                                   \n",
       "                           2-Some                                2.10 [2.04-2.16]  \n",
       "                           3-No                                  3.83 [3.69-3.98]  \n",
       "                           4-NA                                  2.34 [2.22-2.48]  "
      ]
     },
     "execution_count": 10,
     "metadata": {},
     "output_type": "execute_result"
    }
   ],
   "source": [
    "pyshs.regression_logistique(data,\"confiance_hopital_faible\",\n",
    "                                 var_ind,\n",
    "                                 \"poids\")"
   ]
  },
  {
   "cell_type": "markdown",
   "metadata": {},
   "source": [
    "La question de pose toujours :\n",
    "\n",
    "- résultats bruts\n",
    "- Affichage spécifique finalisé"
   ]
  },
  {
   "cell_type": "markdown",
   "metadata": {},
   "source": [
    "## 3. Représentations géographiques\n",
    "\n",
    "Pour cela on utilise GéoPandas qui est une extension de Pandas avec une colonne dédiée à la géographie. (Attention, GeoPandas peut poser certains soucis d'installation, ne pas hésiter à créer un environnement dédié)"
   ]
  },
  {
   "cell_type": "markdown",
   "metadata": {},
   "source": [
    "Pour travailler sur une carte, on a besoin d'une description \"géographique\" : un fond de carte\n",
    "\n",
    "Généralement en shapefiles : https://public.opendatasoft.com/explore/dataset/world-administrative-boundaries/export/"
   ]
  },
  {
   "cell_type": "code",
   "execution_count": 20,
   "metadata": {},
   "outputs": [],
   "source": [
    "#!conda install geopandas"
   ]
  },
  {
   "cell_type": "code",
   "execution_count": 11,
   "metadata": {},
   "outputs": [],
   "source": [
    "import geopandas as gpd"
   ]
  },
  {
   "cell_type": "markdown",
   "metadata": {},
   "source": [
    "Geopandas permet de manipuler ce type de fichiers comme les GIS"
   ]
  },
  {
   "cell_type": "code",
   "execution_count": 14,
   "metadata": {},
   "outputs": [],
   "source": [
    "carte = gpd.read_file(\"./world-administrative-boundaries/world-administrative-boundaries.shp\")"
   ]
  },
  {
   "cell_type": "markdown",
   "metadata": {},
   "source": [
    "Une nouvelle colonne"
   ]
  },
  {
   "cell_type": "code",
   "execution_count": 15,
   "metadata": {},
   "outputs": [
    {
     "data": {
      "text/html": [
       "<div>\n",
       "<style scoped>\n",
       "    .dataframe tbody tr th:only-of-type {\n",
       "        vertical-align: middle;\n",
       "    }\n",
       "\n",
       "    .dataframe tbody tr th {\n",
       "        vertical-align: top;\n",
       "    }\n",
       "\n",
       "    .dataframe thead th {\n",
       "        text-align: right;\n",
       "    }\n",
       "</style>\n",
       "<table border=\"1\" class=\"dataframe\">\n",
       "  <thead>\n",
       "    <tr style=\"text-align: right;\">\n",
       "      <th></th>\n",
       "      <th>status</th>\n",
       "      <th>color_code</th>\n",
       "      <th>region</th>\n",
       "      <th>iso3</th>\n",
       "      <th>continent</th>\n",
       "      <th>name</th>\n",
       "      <th>iso_3166_1_</th>\n",
       "      <th>french_shor</th>\n",
       "      <th>geometry</th>\n",
       "    </tr>\n",
       "  </thead>\n",
       "  <tbody>\n",
       "    <tr>\n",
       "      <th>0</th>\n",
       "      <td>Member State</td>\n",
       "      <td>SMR</td>\n",
       "      <td>Southern Europe</td>\n",
       "      <td>SMR</td>\n",
       "      <td>Europe</td>\n",
       "      <td>San Marino</td>\n",
       "      <td>SM</td>\n",
       "      <td>Saint-Marin</td>\n",
       "      <td>POLYGON ((12.40913 43.90842, 12.40352 43.92092...</td>\n",
       "    </tr>\n",
       "    <tr>\n",
       "      <th>1</th>\n",
       "      <td>Member State</td>\n",
       "      <td>SYR</td>\n",
       "      <td>Western Asia</td>\n",
       "      <td>SYR</td>\n",
       "      <td>Asia</td>\n",
       "      <td>Syrian Arab Republic</td>\n",
       "      <td>SY</td>\n",
       "      <td>RÃ©publique arabe syrienne</td>\n",
       "      <td>POLYGON ((42.35562 37.10693, 42.37833 37.07206...</td>\n",
       "    </tr>\n",
       "    <tr>\n",
       "      <th>2</th>\n",
       "      <td>Member State</td>\n",
       "      <td>LVA</td>\n",
       "      <td>Northern Europe</td>\n",
       "      <td>LVA</td>\n",
       "      <td>Europe</td>\n",
       "      <td>Latvia</td>\n",
       "      <td>LV</td>\n",
       "      <td>Lettonie</td>\n",
       "      <td>POLYGON ((27.37206 57.53564, 27.42500 57.53194...</td>\n",
       "    </tr>\n",
       "    <tr>\n",
       "      <th>3</th>\n",
       "      <td>Member State</td>\n",
       "      <td>CPV</td>\n",
       "      <td>Western Africa</td>\n",
       "      <td>CPV</td>\n",
       "      <td>Africa</td>\n",
       "      <td>Cape Verde</td>\n",
       "      <td>CV</td>\n",
       "      <td>Cabo Verde</td>\n",
       "      <td>MULTIPOLYGON (((-24.36556 14.81292, -24.39000 ...</td>\n",
       "    </tr>\n",
       "    <tr>\n",
       "      <th>4</th>\n",
       "      <td>Member State</td>\n",
       "      <td>ZMB</td>\n",
       "      <td>Eastern Africa</td>\n",
       "      <td>ZMB</td>\n",
       "      <td>Africa</td>\n",
       "      <td>Zambia</td>\n",
       "      <td>ZM</td>\n",
       "      <td>Zambie</td>\n",
       "      <td>POLYGON ((32.94040 -9.40508, 32.93944 -9.41583...</td>\n",
       "    </tr>\n",
       "    <tr>\n",
       "      <th>...</th>\n",
       "      <td>...</td>\n",
       "      <td>...</td>\n",
       "      <td>...</td>\n",
       "      <td>...</td>\n",
       "      <td>...</td>\n",
       "      <td>...</td>\n",
       "      <td>...</td>\n",
       "      <td>...</td>\n",
       "      <td>...</td>\n",
       "    </tr>\n",
       "    <tr>\n",
       "      <th>251</th>\n",
       "      <td>FR Territory</td>\n",
       "      <td>FRA</td>\n",
       "      <td>Caribbean</td>\n",
       "      <td>MTQ</td>\n",
       "      <td>Americas</td>\n",
       "      <td>Martinique</td>\n",
       "      <td>MQ</td>\n",
       "      <td>Martinique</td>\n",
       "      <td>POLYGON ((-60.81695 14.47333, -60.82056 14.455...</td>\n",
       "    </tr>\n",
       "    <tr>\n",
       "      <th>252</th>\n",
       "      <td>Member State</td>\n",
       "      <td>MYS</td>\n",
       "      <td>South-Eastern Asia</td>\n",
       "      <td>MYS</td>\n",
       "      <td>Asia</td>\n",
       "      <td>Malaysia</td>\n",
       "      <td>MY</td>\n",
       "      <td>Malaisie</td>\n",
       "      <td>MULTIPOLYGON (((111.41152 2.37639, 111.36804 2...</td>\n",
       "    </tr>\n",
       "    <tr>\n",
       "      <th>253</th>\n",
       "      <td>Member State</td>\n",
       "      <td>KEN</td>\n",
       "      <td>Eastern Africa</td>\n",
       "      <td>KEN</td>\n",
       "      <td>Africa</td>\n",
       "      <td>Kenya</td>\n",
       "      <td>KE</td>\n",
       "      <td>Kenya</td>\n",
       "      <td>MULTIPOLYGON (((41.13805 -2.12444, 41.09416 -2...</td>\n",
       "    </tr>\n",
       "    <tr>\n",
       "      <th>254</th>\n",
       "      <td>PT Territory</td>\n",
       "      <td>PRT</td>\n",
       "      <td>Southern Europe</td>\n",
       "      <td>None</td>\n",
       "      <td>Europe</td>\n",
       "      <td>Madeira Islands</td>\n",
       "      <td>None</td>\n",
       "      <td>Madeira Islands</td>\n",
       "      <td>POLYGON ((-17.10250 32.82333, -17.05306 32.809...</td>\n",
       "    </tr>\n",
       "    <tr>\n",
       "      <th>255</th>\n",
       "      <td>Member State</td>\n",
       "      <td>NZL</td>\n",
       "      <td>Australia and New Zealand</td>\n",
       "      <td>NZL</td>\n",
       "      <td>Oceania</td>\n",
       "      <td>New Zealand</td>\n",
       "      <td>NZ</td>\n",
       "      <td>Nouvelle-ZÃ©lande</td>\n",
       "      <td>MULTIPOLYGON (((169.18552 -52.57695, 169.16166...</td>\n",
       "    </tr>\n",
       "  </tbody>\n",
       "</table>\n",
       "<p>256 rows × 9 columns</p>\n",
       "</div>"
      ],
      "text/plain": [
       "           status color_code                     region  iso3 continent  \\\n",
       "0    Member State        SMR            Southern Europe   SMR    Europe   \n",
       "1    Member State        SYR               Western Asia   SYR      Asia   \n",
       "2    Member State        LVA            Northern Europe   LVA    Europe   \n",
       "3    Member State        CPV             Western Africa   CPV    Africa   \n",
       "4    Member State        ZMB             Eastern Africa   ZMB    Africa   \n",
       "..            ...        ...                        ...   ...       ...   \n",
       "251  FR Territory        FRA                  Caribbean   MTQ  Americas   \n",
       "252  Member State        MYS         South-Eastern Asia   MYS      Asia   \n",
       "253  Member State        KEN             Eastern Africa   KEN    Africa   \n",
       "254  PT Territory        PRT            Southern Europe  None    Europe   \n",
       "255  Member State        NZL  Australia and New Zealand   NZL   Oceania   \n",
       "\n",
       "                     name iso_3166_1_                 french_shor  \\\n",
       "0              San Marino          SM                 Saint-Marin   \n",
       "1    Syrian Arab Republic          SY  RÃ©publique arabe syrienne   \n",
       "2                  Latvia          LV                    Lettonie   \n",
       "3              Cape Verde          CV                  Cabo Verde   \n",
       "4                  Zambia          ZM                      Zambie   \n",
       "..                    ...         ...                         ...   \n",
       "251            Martinique          MQ                  Martinique   \n",
       "252              Malaysia          MY                    Malaisie   \n",
       "253                 Kenya          KE                       Kenya   \n",
       "254       Madeira Islands        None             Madeira Islands   \n",
       "255           New Zealand          NZ           Nouvelle-ZÃ©lande   \n",
       "\n",
       "                                              geometry  \n",
       "0    POLYGON ((12.40913 43.90842, 12.40352 43.92092...  \n",
       "1    POLYGON ((42.35562 37.10693, 42.37833 37.07206...  \n",
       "2    POLYGON ((27.37206 57.53564, 27.42500 57.53194...  \n",
       "3    MULTIPOLYGON (((-24.36556 14.81292, -24.39000 ...  \n",
       "4    POLYGON ((32.94040 -9.40508, 32.93944 -9.41583...  \n",
       "..                                                 ...  \n",
       "251  POLYGON ((-60.81695 14.47333, -60.82056 14.455...  \n",
       "252  MULTIPOLYGON (((111.41152 2.37639, 111.36804 2...  \n",
       "253  MULTIPOLYGON (((41.13805 -2.12444, 41.09416 -2...  \n",
       "254  POLYGON ((-17.10250 32.82333, -17.05306 32.809...  \n",
       "255  MULTIPOLYGON (((169.18552 -52.57695, 169.16166...  \n",
       "\n",
       "[256 rows x 9 columns]"
      ]
     },
     "execution_count": 15,
     "metadata": {},
     "output_type": "execute_result"
    }
   ],
   "source": [
    "carte"
   ]
  },
  {
   "cell_type": "code",
   "execution_count": 28,
   "metadata": {},
   "outputs": [
    {
     "data": {
      "text/plain": [
       "<AxesSubplot:>"
      ]
     },
     "execution_count": 28,
     "metadata": {},
     "output_type": "execute_result"
    },
    {
     "data": {
      "image/png": "[encoded data removed]",
      "text/plain": [
       "<Figure size 432x288 with 1 Axes>"
      ]
     },
     "metadata": {
      "needs_background": "light"
     },
     "output_type": "display_data"
    }
   ],
   "source": [
    "carte.plot()"
   ]
  },
  {
   "cell_type": "markdown",
   "metadata": {},
   "source": [
    "Des éléments \"spatiaux\""
   ]
  },
  {
   "cell_type": "code",
   "execution_count": 16,
   "metadata": {},
   "outputs": [
    {
     "data": {
      "image/svg+xml": [
       "<svg xmlns=\"http://www.w3.org/2000/svg\" xmlns:xlink=\"http://www.w3.org/1999/xlink\" width=\"100.0\" height=\"100.0\" viewBox=\"51.391396800000045 22.441396800000057 5.182196400000024 3.834426399999998\" preserveAspectRatio=\"xMinYMin meet\"><g transform=\"matrix(1,0,0,-1,0,48.71722000000011)\"><g><path fill-rule=\"evenodd\" fill=\"#66cc99\" stroke=\"#555555\" stroke-width=\"0.10364392800000047\" opacity=\"0.6\" d=\"M 53.964860000000044,24.179440000000056 L 53.95500000000004,24.145830000000046 L 53.94638000000003,24.140000000000043 L 53.89999000000006,24.13250000000005 L 53.821390000000065,24.13722000000007 L 53.784170000000074,24.125000000000057 L 53.67805000000004,24.16014000000007 L 53.66555000000005,24.155550000000062 L 53.654720000000054,24.152220000000057 L 53.63833000000005,24.151800000000037 L 53.62694000000005,24.158890000000042 L 53.62472000000008,24.16972000000004 L 53.63139000000007,24.177500000000066 L 53.640270000000044,24.183050000000037 L 53.70861000000008,24.221660000000043 L 53.85271000000006,24.26777000000004 L 53.959160000000054,24.191110000000037 L 53.964860000000044,24.179440000000056 z\" /><path fill-rule=\"evenodd\" fill=\"#66cc99\" stroke=\"#555555\" stroke-width=\"0.10364392800000047\" opacity=\"0.6\" d=\"M 54.386690000000044,24.512880000000052 L 54.47264000000007,24.419770000000085 L 54.330580000000054,24.456780000000037 L 54.386690000000044,24.512880000000052 z\" /><path fill-rule=\"evenodd\" fill=\"#66cc99\" stroke=\"#555555\" stroke-width=\"0.10364392800000047\" opacity=\"0.6\" d=\"M 56.26972000000006,25.636010000000056 L 56.32819000000006,25.60833000000008 L 56.346940000000075,25.59430000000009 L 56.368750000000034,25.51944000000009 L 56.365270000000066,25.46583000000004 L 56.360280000000046,25.421110000000056 L 56.36556000000007,25.382220000000075 L 56.375830000000065,25.34194000000008 L 56.38166000000007,25.320830000000058 L 56.372780000000034,25.261670000000038 L 56.35750000000007,25.10167000000007 L 56.35638000000006,25.081660000000056 L 56.356670000000065,25.069170000000042 L 56.37353000000007,24.97938000000005 L 56.35215000000005,24.976530000000082 L 56.33901000000009,24.969440000000077 L 56.33465000000007,24.96181000000007 L 56.33917000000008,24.92611000000005 L 56.340140000000076,24.914030000000082 L 56.33215000000007,24.895140000000083 L 56.303330000000074,24.88250000000005 L 56.28708000000006,24.87014000000005 L 56.28047000000004,24.857270000000085 L 56.26944000000003,24.849510000000066 L 56.22611000000006,24.83361000000008 L 56.18876000000006,24.825000000000045 L 56.17972000000003,24.781670000000076 L 56.14375000000007,24.74111000000005 L 56.104160000000036,24.73472000000004 L 56.076940000000036,24.738050000000044 L 56.06444000000005,24.744230000000073 L 55.98114000000004,24.87173000000007 L 55.998740000000055,24.890280000000075 L 56.02861000000007,24.88125000000008 L 56.050830000000076,24.86611000000005 L 56.03472000000005,24.946390000000065 L 56.02278000000007,24.96583000000004 L 56.00013000000007,24.977080000000058 L 55.97657000000004,24.981990000000053 L 55.94527000000005,24.982500000000073 L 55.92222000000004,24.976530000000082 L 55.88875000000007,24.959580000000074 L 55.86639000000008,24.942220000000077 L 55.84555000000006,24.920280000000048 L 55.814020000000085,24.885830000000055 L 55.803810000000055,24.860070000000064 L 55.81389000000007,24.729720000000043 L 55.82000000000005,24.70166000000006 L 55.84361000000007,24.64972000000006 L 55.81249000000008,24.596110000000067 L 55.78138000000007,24.565410000000043 L 55.797780000000046,24.47694000000007 L 55.82000000000005,24.416670000000067 L 55.833330000000046,24.316670000000045 L 55.75000000000006,24.229170000000067 L 55.833330000000046,24.197220000000073 L 55.900000000000034,24.21667000000008 L 55.85000000000008,24.01667000000009 L 55.56944000000004,24.000000000000057 L 55.50000000000006,23.53639000000004 L 55.20867000000004,22.709280000000035 L 55.14166000000006,22.633330000000058 L 52.583330000000046,22.93889000000007 L 51.583330000000046,24.11666000000008 L 51.58423000000005,24.260470000000055 L 51.62333000000007,24.264440000000036 L 51.72583000000009,24.261110000000087 L 51.773600000000044,24.178330000000074 L 51.769990000000064,24.15250000000009 L 51.77278000000007,24.129170000000045 L 51.78819000000004,24.04472000000004 L 51.80033000000009,24.013300000000072 L 51.81597000000005,23.99798000000004 L 51.85417000000007,23.988050000000044 L 51.93417000000005,23.987500000000068 L 52.08597000000003,23.955970000000036 L 52.20750000000004,23.970000000000084 L 52.231670000000065,23.97389000000004 L 52.254440000000045,23.980000000000075 L 52.33090000000004,24.00204000000008 L 52.43416000000008,24.05236000000008 L 52.52305000000007,24.12167000000005 L 52.58159000000006,24.191320000000076 L 52.626250000000084,24.196800000000053 L 52.65361000000007,24.166670000000067 L 52.67721000000006,24.139720000000068 L 52.77222000000006,24.136390000000063 L 52.943610000000035,24.137780000000078 L 53.05555000000004,24.12167000000005 L 53.08028000000007,24.12417000000005 L 53.145830000000046,24.135830000000055 L 53.22444000000007,24.136110000000087 L 53.32583000000005,24.102780000000052 L 53.414990000000046,24.107500000000073 L 53.45972000000006,24.106110000000058 L 53.52944000000008,24.087780000000066 L 53.556940000000054,24.070550000000082 L 53.56750000000005,24.052910000000054 L 53.587770000000035,24.044170000000065 L 53.874160000000074,24.059720000000084 L 54.123740000000055,24.14166000000006 L 54.186390000000074,24.183050000000037 L 54.24583000000007,24.21778000000006 L 54.38194000000004,24.25222000000008 L 54.427500000000066,24.285690000000045 L 54.45638000000008,24.33528000000007 L 54.46944000000008,24.366940000000056 L 54.477490000000046,24.410280000000057 L 54.50284000000005,24.437700000000063 L 54.54666000000003,24.433050000000037 L 54.57555000000008,24.44097000000005 L 54.669170000000065,24.663330000000087 L 54.653050000000064,24.719720000000052 L 54.650280000000066,24.746940000000052 L 54.70777000000004,24.801390000000083 L 54.946390000000065,24.953610000000083 L 55.00637000000006,24.97604000000007 L 55.016940000000034,24.98305000000005 L 55.05000000000007,25.00583000000006 L 55.06638000000004,25.018050000000073 L 55.129710000000046,25.08555000000007 L 55.17806000000007,25.13889000000006 L 55.191670000000045,25.154160000000047 L 55.20555000000007,25.170280000000048 L 55.21694000000008,25.18805000000009 L 55.229160000000036,25.204720000000066 L 55.263880000000086,25.243610000000047 L 55.30194000000006,25.281940000000077 L 55.32671000000005,25.305600000000084 L 55.330820000000074,25.31194000000005 L 55.369720000000086,25.361110000000053 L 55.42485000000005,25.39424000000008 L 55.43928000000005,25.40728000000007 L 55.46652000000006,25.41396000000009 L 55.49302000000006,25.459440000000086 L 55.504170000000045,25.473610000000065 L 55.51807000000008,25.511870000000044 L 55.52750000000003,25.540000000000077 L 55.542710000000056,25.565490000000068 L 55.56367000000006,25.581590000000062 L 55.564740000000086,25.574050000000057 L 55.545580000000086,25.548070000000052 L 55.54913000000005,25.525760000000048 L 55.58525000000009,25.526410000000055 L 55.632130000000075,25.536470000000065 L 55.63793000000004,25.555770000000052 L 55.64734000000004,25.58224000000007 L 55.69111000000004,25.623060000000066 L 55.747100000000046,25.661110000000065 L 55.85944000000006,25.720410000000072 L 56.02479000000005,25.882570000000044 L 56.04361000000006,25.92861000000005 L 56.07361000000009,26.025970000000086 L 56.07994000000008,26.065560000000062 L 56.15318000000008,26.083890000000054 L 56.185550000000035,26.014720000000068 L 56.16582000000005,25.90805000000006 L 56.13916000000006,25.83250000000004 L 56.14083000000005,25.73499000000004 L 56.14722000000006,25.66611000000006 L 56.15897000000007,25.66250000000008 L 56.18333000000007,25.654990000000055 L 56.23804000000007,25.62611000000004 L 56.26972000000006,25.636010000000056 z\" /></g></g></svg>"
      ],
      "text/plain": [
       "<shapely.geometry.multipolygon.MultiPolygon at 0x14644dcf0>"
      ]
     },
     "execution_count": 16,
     "metadata": {},
     "output_type": "execute_result"
    }
   ],
   "source": [
    "carte[\"geometry\"].iloc[11]"
   ]
  },
  {
   "cell_type": "markdown",
   "metadata": {},
   "source": [
    "Possible de les construire \"à la main\" aussi si besoin..."
   ]
  },
  {
   "cell_type": "code",
   "execution_count": 17,
   "metadata": {},
   "outputs": [],
   "source": [
    "from shapely.geometry import Point,Polygon,LineString"
   ]
  },
  {
   "cell_type": "code",
   "execution_count": 18,
   "metadata": {},
   "outputs": [
    {
     "data": {
      "image/svg+xml": [
       "<svg xmlns=\"http://www.w3.org/2000/svg\" xmlns:xlink=\"http://www.w3.org/1999/xlink\" width=\"100.0\" height=\"100.0\" viewBox=\"9.0 9.0 2.0 2.0\" preserveAspectRatio=\"xMinYMin meet\"><g transform=\"matrix(1,0,0,-1,0,20.0)\"><circle cx=\"10.0\" cy=\"10.0\" r=\"0.06\" stroke=\"#555555\" stroke-width=\"0.02\" fill=\"#66cc99\" opacity=\"0.6\" /></g></svg>"
      ],
      "text/plain": [
       "<shapely.geometry.point.Point at 0x1467618a0>"
      ]
     },
     "execution_count": 18,
     "metadata": {},
     "output_type": "execute_result"
    }
   ],
   "source": [
    "Point(10,10)"
   ]
  },
  {
   "cell_type": "code",
   "execution_count": 19,
   "metadata": {},
   "outputs": [
    {
     "data": {
      "image/svg+xml": [
       "<svg xmlns=\"http://www.w3.org/2000/svg\" xmlns:xlink=\"http://www.w3.org/1999/xlink\" width=\"100.0\" height=\"100.0\" viewBox=\"0.72 1.72 6.5600000000000005 7.56\" preserveAspectRatio=\"xMinYMin meet\"><g transform=\"matrix(1,0,0,-1,0,11.0)\"><polyline fill=\"none\" stroke=\"#66cc99\" stroke-width=\"0.1512\" points=\"1.0,2.0 4.0,3.0 7.0,9.0\" opacity=\"0.8\" /></g></svg>"
      ],
      "text/plain": [
       "<shapely.geometry.linestring.LineString at 0x146760ee0>"
      ]
     },
     "execution_count": 19,
     "metadata": {},
     "output_type": "execute_result"
    }
   ],
   "source": [
    "LineString([[1,2],[4,3],[7,9]])"
   ]
  },
  {
   "cell_type": "code",
   "execution_count": 20,
   "metadata": {},
   "outputs": [
    {
     "data": {
      "image/svg+xml": [
       "<svg xmlns=\"http://www.w3.org/2000/svg\" xmlns:xlink=\"http://www.w3.org/1999/xlink\" width=\"100.0\" height=\"100.0\" viewBox=\"-0.12 -0.12 3.24 3.24\" preserveAspectRatio=\"xMinYMin meet\"><g transform=\"matrix(1,0,0,-1,0,3.0)\"><path fill-rule=\"evenodd\" fill=\"#66cc99\" stroke=\"#555555\" stroke-width=\"0.06480000000000001\" opacity=\"0.6\" d=\"M 0.0,0.0 L 3.0,0.0 L 3.0,3.0 L 0.0,0.0 z\" /></g></svg>"
      ],
      "text/plain": [
       "<shapely.geometry.polygon.Polygon at 0x146760b50>"
      ]
     },
     "execution_count": 20,
     "metadata": {},
     "output_type": "execute_result"
    }
   ],
   "source": [
    "Polygon([[0,0],[3,0],[3,3]])"
   ]
  },
  {
   "cell_type": "markdown",
   "metadata": {},
   "source": [
    "L'enjeu maintenant est d'afficher les données sur la carte : rajouter une colonne à notre jeu de données"
   ]
  },
  {
   "cell_type": "markdown",
   "metadata": {},
   "source": [
    "### Apparier des données\n",
    "\n",
    "il faut joindre deux tableaux"
   ]
  },
  {
   "cell_type": "markdown",
   "metadata": {},
   "source": [
    "Vérifions que le nom des pays est écrit de la même manière dans le jeu de données et dans la carte"
   ]
  },
  {
   "cell_type": "code",
   "execution_count": 21,
   "metadata": {},
   "outputs": [
    {
     "name": "stdout",
     "output_type": "stream",
     "text": [
      "United States\n",
      "United Kingdom\n",
      "Iran\n",
      "Tanzania\n",
      "Laos\n",
      "South Korea\n",
      "Moldova\n",
      "Russia\n",
      "Bosnia Herzegovina\n",
      "Congo Brazzaville\n",
      "Ivory Coast\n",
      "North Macedonia\n",
      "Kosovo\n"
     ]
    }
   ],
   "source": [
    "noms_cartes = carte[\"name\"].unique()\n",
    "noms_data = data[\"COUNTRYNEW\"].unique()\n",
    "\n",
    "for i in noms_data:\n",
    "    if not i in noms_cartes:\n",
    "        print(i)"
   ]
  },
  {
   "cell_type": "markdown",
   "metadata": {},
   "source": [
    "Ce sont les noms qu'il faut relier, donc on va créer un dictionnaire de correspondances et créer une nouvelle colonne avec les noms recodées"
   ]
  },
  {
   "cell_type": "code",
   "execution_count": 22,
   "metadata": {},
   "outputs": [],
   "source": [
    "reco = {   \n",
    "    \"United States\":'United States of America',\n",
    "    \"United Kingdom\":'U.K. of Great Britain and Northern Ireland',\n",
    "    \"Iran\":'Iran (Islamic Republic of)',\n",
    "    \"Tanzania\":'United Republic of Tanzania',\n",
    "    \"South Korea\":'Republic of Korea',\n",
    "    'Moldova':'Moldova, Republic of',\n",
    "    \"Russia\":'Russian Federation',\n",
    "    \"Bosnia Herzegovina\":'Bosnia & Herzegovina',\n",
    "    \"Congo Brazzaville\":'Democratic Republic of the Congo',\n",
    "    \"North Macedonia\":'The former Yugoslav Republic of Macedonia'\n",
    "    }\n",
    "\n",
    "# reste à faire Kosovo et Ivory Coast\n",
    "data[\"pays_reco\"] = data[\"pays\"].replace(reco) "
   ]
  },
  {
   "cell_type": "markdown",
   "metadata": {},
   "source": [
    "Il est possible maintenant de créer des données par pays à partir du sondage. On va calculer par pays la proportion de ceux qui ont confiance"
   ]
  },
  {
   "cell_type": "code",
   "execution_count": 23,
   "metadata": {},
   "outputs": [],
   "source": [
    "# Construire une fonction dédiée qui traite un tableau pandas\n",
    "def prop_lot(x):\n",
    "    t = pyshs.tri_a_plat(x,\"confiance_hopital\",\"poids\")\n",
    "    try:\n",
    "        return t.loc[\"1-A lot\",\"Pourcentage (%)\"]\n",
    "    except:\n",
    "        return None\n",
    "\n",
    "# L'appliquer à la sortie d'un groupby, trier et afficher\n",
    "#data.groupby(\"pays\").apply(prop_lot).sort_values().plot(kind=\"barh\",figsize=(5,30))"
   ]
  },
  {
   "cell_type": "code",
   "execution_count": 24,
   "metadata": {},
   "outputs": [],
   "source": [
    "data_pays = pd.DataFrame(data.groupby(\"pays_reco\").apply(prop_lot),columns=[\"Confiance hopital\"])"
   ]
  },
  {
   "cell_type": "markdown",
   "metadata": {},
   "source": [
    "Et de les associer à la carte avec les méthodes de jointure de Pandas"
   ]
  },
  {
   "cell_type": "code",
   "execution_count": 25,
   "metadata": {},
   "outputs": [],
   "source": [
    "carte_data = carte.join(data_pays,on=\"name\")"
   ]
  },
  {
   "cell_type": "markdown",
   "metadata": {},
   "source": [
    "Pour construire une visualisation (plus de détail par exemple sur  https://geopandas.org/en/stable/docs/user_guide/mapping.html)"
   ]
  },
  {
   "cell_type": "code",
   "execution_count": 26,
   "metadata": {},
   "outputs": [
    {
     "data": {
      "image/png": "[encoded data removed]",
      "text/plain": [
       "<Figure size 1080x720 with 2 Axes>"
      ]
     },
     "metadata": {
      "needs_background": "light"
     },
     "output_type": "display_data"
    }
   ],
   "source": [
    "ax = carte_data.plot(column='Confiance hopital',figsize=(15,10),legend=True,\n",
    "                legend_kwds={'label': \"% de répondants qui ont confiance dans l'hopital\",\n",
    "                             'orientation': \"horizontal\"}, missing_kwds={'color': 'lightgrey'})\n",
    "ax.set_axis_off()"
   ]
  }
 ],
 "metadata": {
  "kernelspec": {
   "display_name": "Python 3 (ipykernel)",
   "language": "python",
   "name": "python3"
  },
  "language_info": {
   "codemirror_mode": {
    "name": "ipython",
    "version": 3
   },
   "file_extension": ".py",
   "mimetype": "text/x-python",
   "name": "python",
   "nbconvert_exporter": "python",
   "pygments_lexer": "ipython3",
   "version": "3.10.4"
  }
 },
 "nbformat": 4,
 "nbformat_minor": 4
}
